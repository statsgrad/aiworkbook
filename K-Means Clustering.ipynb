{
 "cells": [
  {
   "cell_type": "markdown",
   "id": "generous-pound",
   "metadata": {},
   "source": [
    "### Reason behind the name"
   ]
  },
  {
   "cell_type": "markdown",
   "id": "specific-blink",
   "metadata": {},
   "source": [
    "1.\tK stands for the number of clusters. At the end of analysis we will be fiding the optimal value of K\n",
    "2.\tMeans - calculation of cluster centroid is based on the average of coordinates"
   ]
  },
  {
   "cell_type": "markdown",
   "id": "vietnamese-incidence",
   "metadata": {},
   "source": [
    "### Steps behind K-Means Clustering"
   ]
  },
  {
   "cell_type": "markdown",
   "id": "faced-paintball",
   "metadata": {},
   "source": [
    "1.\tRandomly assign a number from 1 to K to each of the observations. Now we have initialized K clusters.\n",
    "2.\tCalculate centroid for each cluster\n",
    "3.\tCalculate distance between the centroid of each cluster to all the observations in the data\n",
    "4.\tReassign the cluster label of an observation to cluster label of the closest centroid\n",
    "5.\tRepeat steps 2 to 4 until the cluster assignments stop changing"
   ]
  },
  {
   "cell_type": "markdown",
   "id": "accepted-grill",
   "metadata": {},
   "source": [
    "#### Explanation with example"
   ]
  },
  {
   "cell_type": "markdown",
   "id": "everyday-contributor",
   "metadata": {
    "ExecuteTime": {
     "end_time": "2021-09-20T01:30:30.084381Z",
     "start_time": "2021-09-20T01:30:30.041391Z"
    }
   },
   "source": [
    "##### import packages"
   ]
  },
  {
   "cell_type": "code",
   "execution_count": null,
   "id": "dense-equality",
   "metadata": {
    "ExecuteTime": {
     "end_time": "2021-09-23T06:56:07.661279Z",
     "start_time": "2021-09-23T06:56:07.632278Z"
    }
   },
   "outputs": [],
   "source": [
    "from sklearn.datasets import make_blobs\n",
    "from sklearn.metrics import silhouette_samples, silhouette_score\n",
    "from sklearn.cluster import KMeans\n",
    "import seaborn as sb, pandas as pd, numpy as np\n",
    "%matplotlib notebook\n",
    "import matplotlib.pyplot as plt\n",
    "import plotly.express as px\n",
    "import plotly.graph_objects as go"
   ]
  },
  {
   "cell_type": "markdown",
   "id": "dominant-numbers",
   "metadata": {},
   "source": [
    "##### create sample data"
   ]
  },
  {
   "cell_type": "markdown",
   "id": "continental-relation",
   "metadata": {},
   "source": [
    "creating sample data so that it is easier to understand the steps involved in crearion and validation of clustering "
   ]
  },
  {
   "cell_type": "code",
   "execution_count": 2,
   "id": "naughty-objective",
   "metadata": {
    "ExecuteTime": {
     "end_time": "2021-09-23T06:38:39.608074Z",
     "start_time": "2021-09-23T06:38:39.539090Z"
    }
   },
   "outputs": [],
   "source": [
    "X, y = make_blobs(n_samples=150, n_features=3, centers=5, \n",
    "                  cluster_std=0.5, shuffle=True, random_state=0)"
   ]
  },
  {
   "cell_type": "markdown",
   "id": "serious-plastic",
   "metadata": {},
   "source": [
    "##### colors for different cluster samples"
   ]
  },
  {
   "cell_type": "code",
   "execution_count": 10,
   "id": "contemporary-sunrise",
   "metadata": {
    "ExecuteTime": {
     "end_time": "2021-09-23T06:50:36.139231Z",
     "start_time": "2021-09-23T06:50:36.126227Z"
    }
   },
   "outputs": [],
   "source": [
    "colors = {0:'red', 1:'green', 2:'blue', 3:'yellow', 4:'orange'}"
   ]
  },
  {
   "cell_type": "markdown",
   "id": "specified-threat",
   "metadata": {},
   "source": [
    "##### visualize the sample data created"
   ]
  },
  {
   "cell_type": "code",
   "execution_count": 55,
   "id": "annoying-brunswick",
   "metadata": {
    "ExecuteTime": {
     "end_time": "2021-09-23T08:26:36.914212Z",
     "start_time": "2021-09-23T08:26:36.695283Z"
    }
   },
   "outputs": [
    {
     "data": {
      "application/javascript": [
       "/* Put everything inside the global mpl namespace */\n",
       "/* global mpl */\n",
       "window.mpl = {};\n",
       "\n",
       "mpl.get_websocket_type = function () {\n",
       "    if (typeof WebSocket !== 'undefined') {\n",
       "        return WebSocket;\n",
       "    } else if (typeof MozWebSocket !== 'undefined') {\n",
       "        return MozWebSocket;\n",
       "    } else {\n",
       "        alert(\n",
       "            'Your browser does not have WebSocket support. ' +\n",
       "                'Please try Chrome, Safari or Firefox ≥ 6. ' +\n",
       "                'Firefox 4 and 5 are also supported but you ' +\n",
       "                'have to enable WebSockets in about:config.'\n",
       "        );\n",
       "    }\n",
       "};\n",
       "\n",
       "mpl.figure = function (figure_id, websocket, ondownload, parent_element) {\n",
       "    this.id = figure_id;\n",
       "\n",
       "    this.ws = websocket;\n",
       "\n",
       "    this.supports_binary = this.ws.binaryType !== undefined;\n",
       "\n",
       "    if (!this.supports_binary) {\n",
       "        var warnings = document.getElementById('mpl-warnings');\n",
       "        if (warnings) {\n",
       "            warnings.style.display = 'block';\n",
       "            warnings.textContent =\n",
       "                'This browser does not support binary websocket messages. ' +\n",
       "                'Performance may be slow.';\n",
       "        }\n",
       "    }\n",
       "\n",
       "    this.imageObj = new Image();\n",
       "\n",
       "    this.context = undefined;\n",
       "    this.message = undefined;\n",
       "    this.canvas = undefined;\n",
       "    this.rubberband_canvas = undefined;\n",
       "    this.rubberband_context = undefined;\n",
       "    this.format_dropdown = undefined;\n",
       "\n",
       "    this.image_mode = 'full';\n",
       "\n",
       "    this.root = document.createElement('div');\n",
       "    this.root.setAttribute('style', 'display: inline-block');\n",
       "    this._root_extra_style(this.root);\n",
       "\n",
       "    parent_element.appendChild(this.root);\n",
       "\n",
       "    this._init_header(this);\n",
       "    this._init_canvas(this);\n",
       "    this._init_toolbar(this);\n",
       "\n",
       "    var fig = this;\n",
       "\n",
       "    this.waiting = false;\n",
       "\n",
       "    this.ws.onopen = function () {\n",
       "        fig.send_message('supports_binary', { value: fig.supports_binary });\n",
       "        fig.send_message('send_image_mode', {});\n",
       "        if (fig.ratio !== 1) {\n",
       "            fig.send_message('set_dpi_ratio', { dpi_ratio: fig.ratio });\n",
       "        }\n",
       "        fig.send_message('refresh', {});\n",
       "    };\n",
       "\n",
       "    this.imageObj.onload = function () {\n",
       "        if (fig.image_mode === 'full') {\n",
       "            // Full images could contain transparency (where diff images\n",
       "            // almost always do), so we need to clear the canvas so that\n",
       "            // there is no ghosting.\n",
       "            fig.context.clearRect(0, 0, fig.canvas.width, fig.canvas.height);\n",
       "        }\n",
       "        fig.context.drawImage(fig.imageObj, 0, 0);\n",
       "    };\n",
       "\n",
       "    this.imageObj.onunload = function () {\n",
       "        fig.ws.close();\n",
       "    };\n",
       "\n",
       "    this.ws.onmessage = this._make_on_message_function(this);\n",
       "\n",
       "    this.ondownload = ondownload;\n",
       "};\n",
       "\n",
       "mpl.figure.prototype._init_header = function () {\n",
       "    var titlebar = document.createElement('div');\n",
       "    titlebar.classList =\n",
       "        'ui-dialog-titlebar ui-widget-header ui-corner-all ui-helper-clearfix';\n",
       "    var titletext = document.createElement('div');\n",
       "    titletext.classList = 'ui-dialog-title';\n",
       "    titletext.setAttribute(\n",
       "        'style',\n",
       "        'width: 100%; text-align: center; padding: 3px;'\n",
       "    );\n",
       "    titlebar.appendChild(titletext);\n",
       "    this.root.appendChild(titlebar);\n",
       "    this.header = titletext;\n",
       "};\n",
       "\n",
       "mpl.figure.prototype._canvas_extra_style = function (_canvas_div) {};\n",
       "\n",
       "mpl.figure.prototype._root_extra_style = function (_canvas_div) {};\n",
       "\n",
       "mpl.figure.prototype._init_canvas = function () {\n",
       "    var fig = this;\n",
       "\n",
       "    var canvas_div = (this.canvas_div = document.createElement('div'));\n",
       "    canvas_div.setAttribute(\n",
       "        'style',\n",
       "        'border: 1px solid #ddd;' +\n",
       "            'box-sizing: content-box;' +\n",
       "            'clear: both;' +\n",
       "            'min-height: 1px;' +\n",
       "            'min-width: 1px;' +\n",
       "            'outline: 0;' +\n",
       "            'overflow: hidden;' +\n",
       "            'position: relative;' +\n",
       "            'resize: both;'\n",
       "    );\n",
       "\n",
       "    function on_keyboard_event_closure(name) {\n",
       "        return function (event) {\n",
       "            return fig.key_event(event, name);\n",
       "        };\n",
       "    }\n",
       "\n",
       "    canvas_div.addEventListener(\n",
       "        'keydown',\n",
       "        on_keyboard_event_closure('key_press')\n",
       "    );\n",
       "    canvas_div.addEventListener(\n",
       "        'keyup',\n",
       "        on_keyboard_event_closure('key_release')\n",
       "    );\n",
       "\n",
       "    this._canvas_extra_style(canvas_div);\n",
       "    this.root.appendChild(canvas_div);\n",
       "\n",
       "    var canvas = (this.canvas = document.createElement('canvas'));\n",
       "    canvas.classList.add('mpl-canvas');\n",
       "    canvas.setAttribute('style', 'box-sizing: content-box;');\n",
       "\n",
       "    this.context = canvas.getContext('2d');\n",
       "\n",
       "    var backingStore =\n",
       "        this.context.backingStorePixelRatio ||\n",
       "        this.context.webkitBackingStorePixelRatio ||\n",
       "        this.context.mozBackingStorePixelRatio ||\n",
       "        this.context.msBackingStorePixelRatio ||\n",
       "        this.context.oBackingStorePixelRatio ||\n",
       "        this.context.backingStorePixelRatio ||\n",
       "        1;\n",
       "\n",
       "    this.ratio = (window.devicePixelRatio || 1) / backingStore;\n",
       "\n",
       "    var rubberband_canvas = (this.rubberband_canvas = document.createElement(\n",
       "        'canvas'\n",
       "    ));\n",
       "    rubberband_canvas.setAttribute(\n",
       "        'style',\n",
       "        'box-sizing: content-box; position: absolute; left: 0; top: 0; z-index: 1;'\n",
       "    );\n",
       "\n",
       "    // Apply a ponyfill if ResizeObserver is not implemented by browser.\n",
       "    if (this.ResizeObserver === undefined) {\n",
       "        if (window.ResizeObserver !== undefined) {\n",
       "            this.ResizeObserver = window.ResizeObserver;\n",
       "        } else {\n",
       "            var obs = _JSXTOOLS_RESIZE_OBSERVER({});\n",
       "            this.ResizeObserver = obs.ResizeObserver;\n",
       "        }\n",
       "    }\n",
       "\n",
       "    this.resizeObserverInstance = new this.ResizeObserver(function (entries) {\n",
       "        var nentries = entries.length;\n",
       "        for (var i = 0; i < nentries; i++) {\n",
       "            var entry = entries[i];\n",
       "            var width, height;\n",
       "            if (entry.contentBoxSize) {\n",
       "                if (entry.contentBoxSize instanceof Array) {\n",
       "                    // Chrome 84 implements new version of spec.\n",
       "                    width = entry.contentBoxSize[0].inlineSize;\n",
       "                    height = entry.contentBoxSize[0].blockSize;\n",
       "                } else {\n",
       "                    // Firefox implements old version of spec.\n",
       "                    width = entry.contentBoxSize.inlineSize;\n",
       "                    height = entry.contentBoxSize.blockSize;\n",
       "                }\n",
       "            } else {\n",
       "                // Chrome <84 implements even older version of spec.\n",
       "                width = entry.contentRect.width;\n",
       "                height = entry.contentRect.height;\n",
       "            }\n",
       "\n",
       "            // Keep the size of the canvas and rubber band canvas in sync with\n",
       "            // the canvas container.\n",
       "            if (entry.devicePixelContentBoxSize) {\n",
       "                // Chrome 84 implements new version of spec.\n",
       "                canvas.setAttribute(\n",
       "                    'width',\n",
       "                    entry.devicePixelContentBoxSize[0].inlineSize\n",
       "                );\n",
       "                canvas.setAttribute(\n",
       "                    'height',\n",
       "                    entry.devicePixelContentBoxSize[0].blockSize\n",
       "                );\n",
       "            } else {\n",
       "                canvas.setAttribute('width', width * fig.ratio);\n",
       "                canvas.setAttribute('height', height * fig.ratio);\n",
       "            }\n",
       "            canvas.setAttribute(\n",
       "                'style',\n",
       "                'width: ' + width + 'px; height: ' + height + 'px;'\n",
       "            );\n",
       "\n",
       "            rubberband_canvas.setAttribute('width', width);\n",
       "            rubberband_canvas.setAttribute('height', height);\n",
       "\n",
       "            // And update the size in Python. We ignore the initial 0/0 size\n",
       "            // that occurs as the element is placed into the DOM, which should\n",
       "            // otherwise not happen due to the minimum size styling.\n",
       "            if (fig.ws.readyState == 1 && width != 0 && height != 0) {\n",
       "                fig.request_resize(width, height);\n",
       "            }\n",
       "        }\n",
       "    });\n",
       "    this.resizeObserverInstance.observe(canvas_div);\n",
       "\n",
       "    function on_mouse_event_closure(name) {\n",
       "        return function (event) {\n",
       "            return fig.mouse_event(event, name);\n",
       "        };\n",
       "    }\n",
       "\n",
       "    rubberband_canvas.addEventListener(\n",
       "        'mousedown',\n",
       "        on_mouse_event_closure('button_press')\n",
       "    );\n",
       "    rubberband_canvas.addEventListener(\n",
       "        'mouseup',\n",
       "        on_mouse_event_closure('button_release')\n",
       "    );\n",
       "    // Throttle sequential mouse events to 1 every 20ms.\n",
       "    rubberband_canvas.addEventListener(\n",
       "        'mousemove',\n",
       "        on_mouse_event_closure('motion_notify')\n",
       "    );\n",
       "\n",
       "    rubberband_canvas.addEventListener(\n",
       "        'mouseenter',\n",
       "        on_mouse_event_closure('figure_enter')\n",
       "    );\n",
       "    rubberband_canvas.addEventListener(\n",
       "        'mouseleave',\n",
       "        on_mouse_event_closure('figure_leave')\n",
       "    );\n",
       "\n",
       "    canvas_div.addEventListener('wheel', function (event) {\n",
       "        if (event.deltaY < 0) {\n",
       "            event.step = 1;\n",
       "        } else {\n",
       "            event.step = -1;\n",
       "        }\n",
       "        on_mouse_event_closure('scroll')(event);\n",
       "    });\n",
       "\n",
       "    canvas_div.appendChild(canvas);\n",
       "    canvas_div.appendChild(rubberband_canvas);\n",
       "\n",
       "    this.rubberband_context = rubberband_canvas.getContext('2d');\n",
       "    this.rubberband_context.strokeStyle = '#000000';\n",
       "\n",
       "    this._resize_canvas = function (width, height, forward) {\n",
       "        if (forward) {\n",
       "            canvas_div.style.width = width + 'px';\n",
       "            canvas_div.style.height = height + 'px';\n",
       "        }\n",
       "    };\n",
       "\n",
       "    // Disable right mouse context menu.\n",
       "    this.rubberband_canvas.addEventListener('contextmenu', function (_e) {\n",
       "        event.preventDefault();\n",
       "        return false;\n",
       "    });\n",
       "\n",
       "    function set_focus() {\n",
       "        canvas.focus();\n",
       "        canvas_div.focus();\n",
       "    }\n",
       "\n",
       "    window.setTimeout(set_focus, 100);\n",
       "};\n",
       "\n",
       "mpl.figure.prototype._init_toolbar = function () {\n",
       "    var fig = this;\n",
       "\n",
       "    var toolbar = document.createElement('div');\n",
       "    toolbar.classList = 'mpl-toolbar';\n",
       "    this.root.appendChild(toolbar);\n",
       "\n",
       "    function on_click_closure(name) {\n",
       "        return function (_event) {\n",
       "            return fig.toolbar_button_onclick(name);\n",
       "        };\n",
       "    }\n",
       "\n",
       "    function on_mouseover_closure(tooltip) {\n",
       "        return function (event) {\n",
       "            if (!event.currentTarget.disabled) {\n",
       "                return fig.toolbar_button_onmouseover(tooltip);\n",
       "            }\n",
       "        };\n",
       "    }\n",
       "\n",
       "    fig.buttons = {};\n",
       "    var buttonGroup = document.createElement('div');\n",
       "    buttonGroup.classList = 'mpl-button-group';\n",
       "    for (var toolbar_ind in mpl.toolbar_items) {\n",
       "        var name = mpl.toolbar_items[toolbar_ind][0];\n",
       "        var tooltip = mpl.toolbar_items[toolbar_ind][1];\n",
       "        var image = mpl.toolbar_items[toolbar_ind][2];\n",
       "        var method_name = mpl.toolbar_items[toolbar_ind][3];\n",
       "\n",
       "        if (!name) {\n",
       "            /* Instead of a spacer, we start a new button group. */\n",
       "            if (buttonGroup.hasChildNodes()) {\n",
       "                toolbar.appendChild(buttonGroup);\n",
       "            }\n",
       "            buttonGroup = document.createElement('div');\n",
       "            buttonGroup.classList = 'mpl-button-group';\n",
       "            continue;\n",
       "        }\n",
       "\n",
       "        var button = (fig.buttons[name] = document.createElement('button'));\n",
       "        button.classList = 'mpl-widget';\n",
       "        button.setAttribute('role', 'button');\n",
       "        button.setAttribute('aria-disabled', 'false');\n",
       "        button.addEventListener('click', on_click_closure(method_name));\n",
       "        button.addEventListener('mouseover', on_mouseover_closure(tooltip));\n",
       "\n",
       "        var icon_img = document.createElement('img');\n",
       "        icon_img.src = '_images/' + image + '.png';\n",
       "        icon_img.srcset = '_images/' + image + '_large.png 2x';\n",
       "        icon_img.alt = tooltip;\n",
       "        button.appendChild(icon_img);\n",
       "\n",
       "        buttonGroup.appendChild(button);\n",
       "    }\n",
       "\n",
       "    if (buttonGroup.hasChildNodes()) {\n",
       "        toolbar.appendChild(buttonGroup);\n",
       "    }\n",
       "\n",
       "    var fmt_picker = document.createElement('select');\n",
       "    fmt_picker.classList = 'mpl-widget';\n",
       "    toolbar.appendChild(fmt_picker);\n",
       "    this.format_dropdown = fmt_picker;\n",
       "\n",
       "    for (var ind in mpl.extensions) {\n",
       "        var fmt = mpl.extensions[ind];\n",
       "        var option = document.createElement('option');\n",
       "        option.selected = fmt === mpl.default_extension;\n",
       "        option.innerHTML = fmt;\n",
       "        fmt_picker.appendChild(option);\n",
       "    }\n",
       "\n",
       "    var status_bar = document.createElement('span');\n",
       "    status_bar.classList = 'mpl-message';\n",
       "    toolbar.appendChild(status_bar);\n",
       "    this.message = status_bar;\n",
       "};\n",
       "\n",
       "mpl.figure.prototype.request_resize = function (x_pixels, y_pixels) {\n",
       "    // Request matplotlib to resize the figure. Matplotlib will then trigger a resize in the client,\n",
       "    // which will in turn request a refresh of the image.\n",
       "    this.send_message('resize', { width: x_pixels, height: y_pixels });\n",
       "};\n",
       "\n",
       "mpl.figure.prototype.send_message = function (type, properties) {\n",
       "    properties['type'] = type;\n",
       "    properties['figure_id'] = this.id;\n",
       "    this.ws.send(JSON.stringify(properties));\n",
       "};\n",
       "\n",
       "mpl.figure.prototype.send_draw_message = function () {\n",
       "    if (!this.waiting) {\n",
       "        this.waiting = true;\n",
       "        this.ws.send(JSON.stringify({ type: 'draw', figure_id: this.id }));\n",
       "    }\n",
       "};\n",
       "\n",
       "mpl.figure.prototype.handle_save = function (fig, _msg) {\n",
       "    var format_dropdown = fig.format_dropdown;\n",
       "    var format = format_dropdown.options[format_dropdown.selectedIndex].value;\n",
       "    fig.ondownload(fig, format);\n",
       "};\n",
       "\n",
       "mpl.figure.prototype.handle_resize = function (fig, msg) {\n",
       "    var size = msg['size'];\n",
       "    if (size[0] !== fig.canvas.width || size[1] !== fig.canvas.height) {\n",
       "        fig._resize_canvas(size[0], size[1], msg['forward']);\n",
       "        fig.send_message('refresh', {});\n",
       "    }\n",
       "};\n",
       "\n",
       "mpl.figure.prototype.handle_rubberband = function (fig, msg) {\n",
       "    var x0 = msg['x0'] / fig.ratio;\n",
       "    var y0 = (fig.canvas.height - msg['y0']) / fig.ratio;\n",
       "    var x1 = msg['x1'] / fig.ratio;\n",
       "    var y1 = (fig.canvas.height - msg['y1']) / fig.ratio;\n",
       "    x0 = Math.floor(x0) + 0.5;\n",
       "    y0 = Math.floor(y0) + 0.5;\n",
       "    x1 = Math.floor(x1) + 0.5;\n",
       "    y1 = Math.floor(y1) + 0.5;\n",
       "    var min_x = Math.min(x0, x1);\n",
       "    var min_y = Math.min(y0, y1);\n",
       "    var width = Math.abs(x1 - x0);\n",
       "    var height = Math.abs(y1 - y0);\n",
       "\n",
       "    fig.rubberband_context.clearRect(\n",
       "        0,\n",
       "        0,\n",
       "        fig.canvas.width / fig.ratio,\n",
       "        fig.canvas.height / fig.ratio\n",
       "    );\n",
       "\n",
       "    fig.rubberband_context.strokeRect(min_x, min_y, width, height);\n",
       "};\n",
       "\n",
       "mpl.figure.prototype.handle_figure_label = function (fig, msg) {\n",
       "    // Updates the figure title.\n",
       "    fig.header.textContent = msg['label'];\n",
       "};\n",
       "\n",
       "mpl.figure.prototype.handle_cursor = function (fig, msg) {\n",
       "    var cursor = msg['cursor'];\n",
       "    switch (cursor) {\n",
       "        case 0:\n",
       "            cursor = 'pointer';\n",
       "            break;\n",
       "        case 1:\n",
       "            cursor = 'default';\n",
       "            break;\n",
       "        case 2:\n",
       "            cursor = 'crosshair';\n",
       "            break;\n",
       "        case 3:\n",
       "            cursor = 'move';\n",
       "            break;\n",
       "    }\n",
       "    fig.rubberband_canvas.style.cursor = cursor;\n",
       "};\n",
       "\n",
       "mpl.figure.prototype.handle_message = function (fig, msg) {\n",
       "    fig.message.textContent = msg['message'];\n",
       "};\n",
       "\n",
       "mpl.figure.prototype.handle_draw = function (fig, _msg) {\n",
       "    // Request the server to send over a new figure.\n",
       "    fig.send_draw_message();\n",
       "};\n",
       "\n",
       "mpl.figure.prototype.handle_image_mode = function (fig, msg) {\n",
       "    fig.image_mode = msg['mode'];\n",
       "};\n",
       "\n",
       "mpl.figure.prototype.handle_history_buttons = function (fig, msg) {\n",
       "    for (var key in msg) {\n",
       "        if (!(key in fig.buttons)) {\n",
       "            continue;\n",
       "        }\n",
       "        fig.buttons[key].disabled = !msg[key];\n",
       "        fig.buttons[key].setAttribute('aria-disabled', !msg[key]);\n",
       "    }\n",
       "};\n",
       "\n",
       "mpl.figure.prototype.handle_navigate_mode = function (fig, msg) {\n",
       "    if (msg['mode'] === 'PAN') {\n",
       "        fig.buttons['Pan'].classList.add('active');\n",
       "        fig.buttons['Zoom'].classList.remove('active');\n",
       "    } else if (msg['mode'] === 'ZOOM') {\n",
       "        fig.buttons['Pan'].classList.remove('active');\n",
       "        fig.buttons['Zoom'].classList.add('active');\n",
       "    } else {\n",
       "        fig.buttons['Pan'].classList.remove('active');\n",
       "        fig.buttons['Zoom'].classList.remove('active');\n",
       "    }\n",
       "};\n",
       "\n",
       "mpl.figure.prototype.updated_canvas_event = function () {\n",
       "    // Called whenever the canvas gets updated.\n",
       "    this.send_message('ack', {});\n",
       "};\n",
       "\n",
       "// A function to construct a web socket function for onmessage handling.\n",
       "// Called in the figure constructor.\n",
       "mpl.figure.prototype._make_on_message_function = function (fig) {\n",
       "    return function socket_on_message(evt) {\n",
       "        if (evt.data instanceof Blob) {\n",
       "            /* FIXME: We get \"Resource interpreted as Image but\n",
       "             * transferred with MIME type text/plain:\" errors on\n",
       "             * Chrome.  But how to set the MIME type?  It doesn't seem\n",
       "             * to be part of the websocket stream */\n",
       "            evt.data.type = 'image/png';\n",
       "\n",
       "            /* Free the memory for the previous frames */\n",
       "            if (fig.imageObj.src) {\n",
       "                (window.URL || window.webkitURL).revokeObjectURL(\n",
       "                    fig.imageObj.src\n",
       "                );\n",
       "            }\n",
       "\n",
       "            fig.imageObj.src = (window.URL || window.webkitURL).createObjectURL(\n",
       "                evt.data\n",
       "            );\n",
       "            fig.updated_canvas_event();\n",
       "            fig.waiting = false;\n",
       "            return;\n",
       "        } else if (\n",
       "            typeof evt.data === 'string' &&\n",
       "            evt.data.slice(0, 21) === 'data:image/png;base64'\n",
       "        ) {\n",
       "            fig.imageObj.src = evt.data;\n",
       "            fig.updated_canvas_event();\n",
       "            fig.waiting = false;\n",
       "            return;\n",
       "        }\n",
       "\n",
       "        var msg = JSON.parse(evt.data);\n",
       "        var msg_type = msg['type'];\n",
       "\n",
       "        // Call the  \"handle_{type}\" callback, which takes\n",
       "        // the figure and JSON message as its only arguments.\n",
       "        try {\n",
       "            var callback = fig['handle_' + msg_type];\n",
       "        } catch (e) {\n",
       "            console.log(\n",
       "                \"No handler for the '\" + msg_type + \"' message type: \",\n",
       "                msg\n",
       "            );\n",
       "            return;\n",
       "        }\n",
       "\n",
       "        if (callback) {\n",
       "            try {\n",
       "                // console.log(\"Handling '\" + msg_type + \"' message: \", msg);\n",
       "                callback(fig, msg);\n",
       "            } catch (e) {\n",
       "                console.log(\n",
       "                    \"Exception inside the 'handler_\" + msg_type + \"' callback:\",\n",
       "                    e,\n",
       "                    e.stack,\n",
       "                    msg\n",
       "                );\n",
       "            }\n",
       "        }\n",
       "    };\n",
       "};\n",
       "\n",
       "// from http://stackoverflow.com/questions/1114465/getting-mouse-location-in-canvas\n",
       "mpl.findpos = function (e) {\n",
       "    //this section is from http://www.quirksmode.org/js/events_properties.html\n",
       "    var targ;\n",
       "    if (!e) {\n",
       "        e = window.event;\n",
       "    }\n",
       "    if (e.target) {\n",
       "        targ = e.target;\n",
       "    } else if (e.srcElement) {\n",
       "        targ = e.srcElement;\n",
       "    }\n",
       "    if (targ.nodeType === 3) {\n",
       "        // defeat Safari bug\n",
       "        targ = targ.parentNode;\n",
       "    }\n",
       "\n",
       "    // pageX,Y are the mouse positions relative to the document\n",
       "    var boundingRect = targ.getBoundingClientRect();\n",
       "    var x = e.pageX - (boundingRect.left + document.body.scrollLeft);\n",
       "    var y = e.pageY - (boundingRect.top + document.body.scrollTop);\n",
       "\n",
       "    return { x: x, y: y };\n",
       "};\n",
       "\n",
       "/*\n",
       " * return a copy of an object with only non-object keys\n",
       " * we need this to avoid circular references\n",
       " * http://stackoverflow.com/a/24161582/3208463\n",
       " */\n",
       "function simpleKeys(original) {\n",
       "    return Object.keys(original).reduce(function (obj, key) {\n",
       "        if (typeof original[key] !== 'object') {\n",
       "            obj[key] = original[key];\n",
       "        }\n",
       "        return obj;\n",
       "    }, {});\n",
       "}\n",
       "\n",
       "mpl.figure.prototype.mouse_event = function (event, name) {\n",
       "    var canvas_pos = mpl.findpos(event);\n",
       "\n",
       "    if (name === 'button_press') {\n",
       "        this.canvas.focus();\n",
       "        this.canvas_div.focus();\n",
       "    }\n",
       "\n",
       "    var x = canvas_pos.x * this.ratio;\n",
       "    var y = canvas_pos.y * this.ratio;\n",
       "\n",
       "    this.send_message(name, {\n",
       "        x: x,\n",
       "        y: y,\n",
       "        button: event.button,\n",
       "        step: event.step,\n",
       "        guiEvent: simpleKeys(event),\n",
       "    });\n",
       "\n",
       "    /* This prevents the web browser from automatically changing to\n",
       "     * the text insertion cursor when the button is pressed.  We want\n",
       "     * to control all of the cursor setting manually through the\n",
       "     * 'cursor' event from matplotlib */\n",
       "    event.preventDefault();\n",
       "    return false;\n",
       "};\n",
       "\n",
       "mpl.figure.prototype._key_event_extra = function (_event, _name) {\n",
       "    // Handle any extra behaviour associated with a key event\n",
       "};\n",
       "\n",
       "mpl.figure.prototype.key_event = function (event, name) {\n",
       "    // Prevent repeat events\n",
       "    if (name === 'key_press') {\n",
       "        if (event.which === this._key) {\n",
       "            return;\n",
       "        } else {\n",
       "            this._key = event.which;\n",
       "        }\n",
       "    }\n",
       "    if (name === 'key_release') {\n",
       "        this._key = null;\n",
       "    }\n",
       "\n",
       "    var value = '';\n",
       "    if (event.ctrlKey && event.which !== 17) {\n",
       "        value += 'ctrl+';\n",
       "    }\n",
       "    if (event.altKey && event.which !== 18) {\n",
       "        value += 'alt+';\n",
       "    }\n",
       "    if (event.shiftKey && event.which !== 16) {\n",
       "        value += 'shift+';\n",
       "    }\n",
       "\n",
       "    value += 'k';\n",
       "    value += event.which.toString();\n",
       "\n",
       "    this._key_event_extra(event, name);\n",
       "\n",
       "    this.send_message(name, { key: value, guiEvent: simpleKeys(event) });\n",
       "    return false;\n",
       "};\n",
       "\n",
       "mpl.figure.prototype.toolbar_button_onclick = function (name) {\n",
       "    if (name === 'download') {\n",
       "        this.handle_save(this, null);\n",
       "    } else {\n",
       "        this.send_message('toolbar_button', { name: name });\n",
       "    }\n",
       "};\n",
       "\n",
       "mpl.figure.prototype.toolbar_button_onmouseover = function (tooltip) {\n",
       "    this.message.textContent = tooltip;\n",
       "};\n",
       "\n",
       "///////////////// REMAINING CONTENT GENERATED BY embed_js.py /////////////////\n",
       "// prettier-ignore\n",
       "var _JSXTOOLS_RESIZE_OBSERVER=function(A){var t,i=new WeakMap,n=new WeakMap,a=new WeakMap,r=new WeakMap,o=new Set;function s(e){if(!(this instanceof s))throw new TypeError(\"Constructor requires 'new' operator\");i.set(this,e)}function h(){throw new TypeError(\"Function is not a constructor\")}function c(e,t,i,n){e=0 in arguments?Number(arguments[0]):0,t=1 in arguments?Number(arguments[1]):0,i=2 in arguments?Number(arguments[2]):0,n=3 in arguments?Number(arguments[3]):0,this.right=(this.x=this.left=e)+(this.width=i),this.bottom=(this.y=this.top=t)+(this.height=n),Object.freeze(this)}function d(){t=requestAnimationFrame(d);var s=new WeakMap,p=new Set;o.forEach((function(t){r.get(t).forEach((function(i){var r=t instanceof window.SVGElement,o=a.get(t),d=r?0:parseFloat(o.paddingTop),f=r?0:parseFloat(o.paddingRight),l=r?0:parseFloat(o.paddingBottom),u=r?0:parseFloat(o.paddingLeft),g=r?0:parseFloat(o.borderTopWidth),m=r?0:parseFloat(o.borderRightWidth),w=r?0:parseFloat(o.borderBottomWidth),b=u+f,F=d+l,v=(r?0:parseFloat(o.borderLeftWidth))+m,W=g+w,y=r?0:t.offsetHeight-W-t.clientHeight,E=r?0:t.offsetWidth-v-t.clientWidth,R=b+v,z=F+W,M=r?t.width:parseFloat(o.width)-R-E,O=r?t.height:parseFloat(o.height)-z-y;if(n.has(t)){var k=n.get(t);if(k[0]===M&&k[1]===O)return}n.set(t,[M,O]);var S=Object.create(h.prototype);S.target=t,S.contentRect=new c(u,d,M,O),s.has(i)||(s.set(i,[]),p.add(i)),s.get(i).push(S)}))})),p.forEach((function(e){i.get(e).call(e,s.get(e),e)}))}return s.prototype.observe=function(i){if(i instanceof window.Element){r.has(i)||(r.set(i,new Set),o.add(i),a.set(i,window.getComputedStyle(i)));var n=r.get(i);n.has(this)||n.add(this),cancelAnimationFrame(t),t=requestAnimationFrame(d)}},s.prototype.unobserve=function(i){if(i instanceof window.Element&&r.has(i)){var n=r.get(i);n.has(this)&&(n.delete(this),n.size||(r.delete(i),o.delete(i))),n.size||r.delete(i),o.size||cancelAnimationFrame(t)}},A.DOMRectReadOnly=c,A.ResizeObserver=s,A.ResizeObserverEntry=h,A}; // eslint-disable-line\n",
       "mpl.toolbar_items = [[\"Home\", \"Reset original view\", \"fa fa-home icon-home\", \"home\"], [\"Back\", \"Back to previous view\", \"fa fa-arrow-left icon-arrow-left\", \"back\"], [\"Forward\", \"Forward to next view\", \"fa fa-arrow-right icon-arrow-right\", \"forward\"], [\"\", \"\", \"\", \"\"], [\"Pan\", \"Left button pans, Right button zooms\\nx/y fixes axis, CTRL fixes aspect\", \"fa fa-arrows icon-move\", \"pan\"], [\"Zoom\", \"Zoom to rectangle\\nx/y fixes axis, CTRL fixes aspect\", \"fa fa-square-o icon-check-empty\", \"zoom\"], [\"\", \"\", \"\", \"\"], [\"Download\", \"Download plot\", \"fa fa-floppy-o icon-save\", \"download\"]];\n",
       "\n",
       "mpl.extensions = [\"eps\", \"jpeg\", \"pdf\", \"png\", \"ps\", \"raw\", \"svg\", \"tif\"];\n",
       "\n",
       "mpl.default_extension = \"png\";/* global mpl */\n",
       "\n",
       "var comm_websocket_adapter = function (comm) {\n",
       "    // Create a \"websocket\"-like object which calls the given IPython comm\n",
       "    // object with the appropriate methods. Currently this is a non binary\n",
       "    // socket, so there is still some room for performance tuning.\n",
       "    var ws = {};\n",
       "\n",
       "    ws.close = function () {\n",
       "        comm.close();\n",
       "    };\n",
       "    ws.send = function (m) {\n",
       "        //console.log('sending', m);\n",
       "        comm.send(m);\n",
       "    };\n",
       "    // Register the callback with on_msg.\n",
       "    comm.on_msg(function (msg) {\n",
       "        //console.log('receiving', msg['content']['data'], msg);\n",
       "        // Pass the mpl event to the overridden (by mpl) onmessage function.\n",
       "        ws.onmessage(msg['content']['data']);\n",
       "    });\n",
       "    return ws;\n",
       "};\n",
       "\n",
       "mpl.mpl_figure_comm = function (comm, msg) {\n",
       "    // This is the function which gets called when the mpl process\n",
       "    // starts-up an IPython Comm through the \"matplotlib\" channel.\n",
       "\n",
       "    var id = msg.content.data.id;\n",
       "    // Get hold of the div created by the display call when the Comm\n",
       "    // socket was opened in Python.\n",
       "    var element = document.getElementById(id);\n",
       "    var ws_proxy = comm_websocket_adapter(comm);\n",
       "\n",
       "    function ondownload(figure, _format) {\n",
       "        window.open(figure.canvas.toDataURL());\n",
       "    }\n",
       "\n",
       "    var fig = new mpl.figure(id, ws_proxy, ondownload, element);\n",
       "\n",
       "    // Call onopen now - mpl needs it, as it is assuming we've passed it a real\n",
       "    // web socket which is closed, not our websocket->open comm proxy.\n",
       "    ws_proxy.onopen();\n",
       "\n",
       "    fig.parent_element = element;\n",
       "    fig.cell_info = mpl.find_output_cell(\"<div id='\" + id + \"'></div>\");\n",
       "    if (!fig.cell_info) {\n",
       "        console.error('Failed to find cell for figure', id, fig);\n",
       "        return;\n",
       "    }\n",
       "    fig.cell_info[0].output_area.element.on(\n",
       "        'cleared',\n",
       "        { fig: fig },\n",
       "        fig._remove_fig_handler\n",
       "    );\n",
       "};\n",
       "\n",
       "mpl.figure.prototype.handle_close = function (fig, msg) {\n",
       "    var width = fig.canvas.width / fig.ratio;\n",
       "    fig.cell_info[0].output_area.element.off(\n",
       "        'cleared',\n",
       "        fig._remove_fig_handler\n",
       "    );\n",
       "    fig.resizeObserverInstance.unobserve(fig.canvas_div);\n",
       "\n",
       "    // Update the output cell to use the data from the current canvas.\n",
       "    fig.push_to_output();\n",
       "    var dataURL = fig.canvas.toDataURL();\n",
       "    // Re-enable the keyboard manager in IPython - without this line, in FF,\n",
       "    // the notebook keyboard shortcuts fail.\n",
       "    IPython.keyboard_manager.enable();\n",
       "    fig.parent_element.innerHTML =\n",
       "        '<img src=\"' + dataURL + '\" width=\"' + width + '\">';\n",
       "    fig.close_ws(fig, msg);\n",
       "};\n",
       "\n",
       "mpl.figure.prototype.close_ws = function (fig, msg) {\n",
       "    fig.send_message('closing', msg);\n",
       "    // fig.ws.close()\n",
       "};\n",
       "\n",
       "mpl.figure.prototype.push_to_output = function (_remove_interactive) {\n",
       "    // Turn the data on the canvas into data in the output cell.\n",
       "    var width = this.canvas.width / this.ratio;\n",
       "    var dataURL = this.canvas.toDataURL();\n",
       "    this.cell_info[1]['text/html'] =\n",
       "        '<img src=\"' + dataURL + '\" width=\"' + width + '\">';\n",
       "};\n",
       "\n",
       "mpl.figure.prototype.updated_canvas_event = function () {\n",
       "    // Tell IPython that the notebook contents must change.\n",
       "    IPython.notebook.set_dirty(true);\n",
       "    this.send_message('ack', {});\n",
       "    var fig = this;\n",
       "    // Wait a second, then push the new image to the DOM so\n",
       "    // that it is saved nicely (might be nice to debounce this).\n",
       "    setTimeout(function () {\n",
       "        fig.push_to_output();\n",
       "    }, 1000);\n",
       "};\n",
       "\n",
       "mpl.figure.prototype._init_toolbar = function () {\n",
       "    var fig = this;\n",
       "\n",
       "    var toolbar = document.createElement('div');\n",
       "    toolbar.classList = 'btn-toolbar';\n",
       "    this.root.appendChild(toolbar);\n",
       "\n",
       "    function on_click_closure(name) {\n",
       "        return function (_event) {\n",
       "            return fig.toolbar_button_onclick(name);\n",
       "        };\n",
       "    }\n",
       "\n",
       "    function on_mouseover_closure(tooltip) {\n",
       "        return function (event) {\n",
       "            if (!event.currentTarget.disabled) {\n",
       "                return fig.toolbar_button_onmouseover(tooltip);\n",
       "            }\n",
       "        };\n",
       "    }\n",
       "\n",
       "    fig.buttons = {};\n",
       "    var buttonGroup = document.createElement('div');\n",
       "    buttonGroup.classList = 'btn-group';\n",
       "    var button;\n",
       "    for (var toolbar_ind in mpl.toolbar_items) {\n",
       "        var name = mpl.toolbar_items[toolbar_ind][0];\n",
       "        var tooltip = mpl.toolbar_items[toolbar_ind][1];\n",
       "        var image = mpl.toolbar_items[toolbar_ind][2];\n",
       "        var method_name = mpl.toolbar_items[toolbar_ind][3];\n",
       "\n",
       "        if (!name) {\n",
       "            /* Instead of a spacer, we start a new button group. */\n",
       "            if (buttonGroup.hasChildNodes()) {\n",
       "                toolbar.appendChild(buttonGroup);\n",
       "            }\n",
       "            buttonGroup = document.createElement('div');\n",
       "            buttonGroup.classList = 'btn-group';\n",
       "            continue;\n",
       "        }\n",
       "\n",
       "        button = fig.buttons[name] = document.createElement('button');\n",
       "        button.classList = 'btn btn-default';\n",
       "        button.href = '#';\n",
       "        button.title = name;\n",
       "        button.innerHTML = '<i class=\"fa ' + image + ' fa-lg\"></i>';\n",
       "        button.addEventListener('click', on_click_closure(method_name));\n",
       "        button.addEventListener('mouseover', on_mouseover_closure(tooltip));\n",
       "        buttonGroup.appendChild(button);\n",
       "    }\n",
       "\n",
       "    if (buttonGroup.hasChildNodes()) {\n",
       "        toolbar.appendChild(buttonGroup);\n",
       "    }\n",
       "\n",
       "    // Add the status bar.\n",
       "    var status_bar = document.createElement('span');\n",
       "    status_bar.classList = 'mpl-message pull-right';\n",
       "    toolbar.appendChild(status_bar);\n",
       "    this.message = status_bar;\n",
       "\n",
       "    // Add the close button to the window.\n",
       "    var buttongrp = document.createElement('div');\n",
       "    buttongrp.classList = 'btn-group inline pull-right';\n",
       "    button = document.createElement('button');\n",
       "    button.classList = 'btn btn-mini btn-primary';\n",
       "    button.href = '#';\n",
       "    button.title = 'Stop Interaction';\n",
       "    button.innerHTML = '<i class=\"fa fa-power-off icon-remove icon-large\"></i>';\n",
       "    button.addEventListener('click', function (_evt) {\n",
       "        fig.handle_close(fig, {});\n",
       "    });\n",
       "    button.addEventListener(\n",
       "        'mouseover',\n",
       "        on_mouseover_closure('Stop Interaction')\n",
       "    );\n",
       "    buttongrp.appendChild(button);\n",
       "    var titlebar = this.root.querySelector('.ui-dialog-titlebar');\n",
       "    titlebar.insertBefore(buttongrp, titlebar.firstChild);\n",
       "};\n",
       "\n",
       "mpl.figure.prototype._remove_fig_handler = function (event) {\n",
       "    var fig = event.data.fig;\n",
       "    if (event.target !== this) {\n",
       "        // Ignore bubbled events from children.\n",
       "        return;\n",
       "    }\n",
       "    fig.close_ws(fig, {});\n",
       "};\n",
       "\n",
       "mpl.figure.prototype._root_extra_style = function (el) {\n",
       "    el.style.boxSizing = 'content-box'; // override notebook setting of border-box.\n",
       "};\n",
       "\n",
       "mpl.figure.prototype._canvas_extra_style = function (el) {\n",
       "    // this is important to make the div 'focusable\n",
       "    el.setAttribute('tabindex', 0);\n",
       "    // reach out to IPython and tell the keyboard manager to turn it's self\n",
       "    // off when our div gets focus\n",
       "\n",
       "    // location in version 3\n",
       "    if (IPython.notebook.keyboard_manager) {\n",
       "        IPython.notebook.keyboard_manager.register_events(el);\n",
       "    } else {\n",
       "        // location in version 2\n",
       "        IPython.keyboard_manager.register_events(el);\n",
       "    }\n",
       "};\n",
       "\n",
       "mpl.figure.prototype._key_event_extra = function (event, _name) {\n",
       "    var manager = IPython.notebook.keyboard_manager;\n",
       "    if (!manager) {\n",
       "        manager = IPython.keyboard_manager;\n",
       "    }\n",
       "\n",
       "    // Check for shift+enter\n",
       "    if (event.shiftKey && event.which === 13) {\n",
       "        this.canvas_div.blur();\n",
       "        // select the cell after this one\n",
       "        var index = IPython.notebook.find_cell_index(this.cell_info[0]);\n",
       "        IPython.notebook.select(index + 1);\n",
       "    }\n",
       "};\n",
       "\n",
       "mpl.figure.prototype.handle_save = function (fig, _msg) {\n",
       "    fig.ondownload(fig, null);\n",
       "};\n",
       "\n",
       "mpl.find_output_cell = function (html_output) {\n",
       "    // Return the cell and output element which can be found *uniquely* in the notebook.\n",
       "    // Note - this is a bit hacky, but it is done because the \"notebook_saving.Notebook\"\n",
       "    // IPython event is triggered only after the cells have been serialised, which for\n",
       "    // our purposes (turning an active figure into a static one), is too late.\n",
       "    var cells = IPython.notebook.get_cells();\n",
       "    var ncells = cells.length;\n",
       "    for (var i = 0; i < ncells; i++) {\n",
       "        var cell = cells[i];\n",
       "        if (cell.cell_type === 'code') {\n",
       "            for (var j = 0; j < cell.output_area.outputs.length; j++) {\n",
       "                var data = cell.output_area.outputs[j];\n",
       "                if (data.data) {\n",
       "                    // IPython >= 3 moved mimebundle to data attribute of output\n",
       "                    data = data.data;\n",
       "                }\n",
       "                if (data['text/html'] === html_output) {\n",
       "                    return [cell, data, j];\n",
       "                }\n",
       "            }\n",
       "        }\n",
       "    }\n",
       "};\n",
       "\n",
       "// Register the function which deals with the matplotlib target/channel.\n",
       "// The kernel may be null if the page has been refreshed.\n",
       "if (IPython.notebook.kernel !== null) {\n",
       "    IPython.notebook.kernel.comm_manager.register_target(\n",
       "        'matplotlib',\n",
       "        mpl.mpl_figure_comm\n",
       "    );\n",
       "}\n"
      ],
      "text/plain": [
       "<IPython.core.display.Javascript object>"
      ]
     },
     "metadata": {},
     "output_type": "display_data"
    },
    {
     "data": {
      "text/html": [
       "<img src=\"data:image/png;base64,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\" width=\"640\">"
      ],
      "text/plain": [
       "<IPython.core.display.HTML object>"
      ]
     },
     "metadata": {},
     "output_type": "display_data"
    }
   ],
   "source": [
    "fig = plt.figure()\n",
    "ax = plt.axes(projection ='3d')\n",
    "ax.scatter(X[:,0], X[:,1], X[:,2], c=pd.Series(y).map(colors))\n",
    "ax.set_xlabel('x')\n",
    "ax.set_ylabel('y')\n",
    "ax.set_zlabel('z')\n",
    "plt.show()"
   ]
  },
  {
   "cell_type": "markdown",
   "id": "partial-allah",
   "metadata": {},
   "source": [
    "##### clustering"
   ]
  },
  {
   "cell_type": "markdown",
   "id": "bigger-baghdad",
   "metadata": {},
   "source": [
    "In unsupervised learning we don't know the optimal number of clusters to be created initially. So, we run Kmeans for different values of K and decide the optimal value of K based on Inertia and silhouette value which we will see later in this notebook. Here we run clustering for K value from 2 to 20"
   ]
  },
  {
   "cell_type": "code",
   "execution_count": 120,
   "id": "distinct-fleet",
   "metadata": {
    "ExecuteTime": {
     "end_time": "2021-09-23T16:05:23.363743Z",
     "start_time": "2021-09-23T16:05:17.312667Z"
    }
   },
   "outputs": [],
   "source": [
    "inetria = []\n",
    "silhouette = []\n",
    "for i in range(2,20):\n",
    "    kmeans = KMeans(n_clusters=i, random_state=0)\n",
    "    km = kmeans.fit(X)\n",
    "    cluster_labels = kmeans.fit_predict(X)\n",
    "    inetria.append(km.inertia_)\n",
    "    '''The silhouette_score gives the average value for all the samples.\n",
    "    This gives a perspective into the density and separation of the formed clusters'''\n",
    "    silhouette_avg = silhouette_score(X, cluster_labels)\n",
    "    silhouette.append(silhouette_avg)"
   ]
  },
  {
   "cell_type": "markdown",
   "id": "respected-abortion",
   "metadata": {},
   "source": [
    "### How to decide the optimal value of K"
   ]
  },
  {
   "cell_type": "markdown",
   "id": "funded-slovak",
   "metadata": {},
   "source": [
    "#### Inertia/Distortion Analysis"
   ]
  },
  {
   "cell_type": "markdown",
   "id": "suitable-frequency",
   "metadata": {},
   "source": [
    "1.\tInertia is the sum of squared distances between the data points in a cluster and the cluster's centroid\n",
    "2.\tCloseness of data points in a cluster is measured by Inertia.\n",
    "3.\tlesser the value of Inertia, higher the closeness of data points in a cluster\n",
    "4.\tInertia can be termed as intra cluster closeness"
   ]
  },
  {
   "cell_type": "markdown",
   "id": "worth-reducing",
   "metadata": {},
   "source": [
    "##### Elbow method"
   ]
  },
  {
   "cell_type": "markdown",
   "id": "simple-buyer",
   "metadata": {},
   "source": [
    "1.\tPlotting the inertia for different values of K (number of clusters) helps in deciding the optimal value of K\n",
    "2.\tBased on the inertia definition above, the value of Inertia will be high for K equal to 1 (i.e. single cluster) and zero for K equal to n (number of observation in the data)\n",
    "3.\tWith increase in K from 1 to n, the value of Inertia decreases drastically in the beginning and decreases slowly after certain value of K. The value of K after which the Inertia decreases slowly is the optimal value of K\n",
    "4.\tHere, in the plot, elbow is located at K=5"
   ]
  },
  {
   "cell_type": "code",
   "execution_count": 123,
   "id": "challenging-booking",
   "metadata": {
    "ExecuteTime": {
     "end_time": "2021-09-23T16:06:21.193976Z",
     "start_time": "2021-09-23T16:06:21.178012Z"
    }
   },
   "outputs": [],
   "source": [
    "from kneed import KneeLocator\n",
    "kn = KneeLocator(x=list(range(2,len(inetria)+2)), y=inetria, curve='convex', direction='decreasing')"
   ]
  },
  {
   "cell_type": "code",
   "execution_count": 134,
   "id": "useful-solid",
   "metadata": {
    "ExecuteTime": {
     "end_time": "2021-09-23T16:09:40.370955Z",
     "start_time": "2021-09-23T16:09:40.344954Z"
    }
   },
   "outputs": [],
   "source": [
    "pt_clrs = list(map(lambda x: {0:'#2596be', 1:'#e28743'}[x], \n",
    "                    (list(range(2,len(inetria)+2)) == kn.knee).astype(int)))"
   ]
  },
  {
   "cell_type": "code",
   "execution_count": 158,
   "id": "shared-amazon",
   "metadata": {
    "ExecuteTime": {
     "end_time": "2021-09-23T16:30:13.901621Z",
     "start_time": "2021-09-23T16:30:13.550647Z"
    }
   },
   "outputs": [
    {
     "data": {
      "application/vnd.plotly.v1+json": {
       "config": {
        "plotlyServerURL": "https://plot.ly"
       },
       "data": [
        {
         "hovertemplate": "Number of clusters=%{x}<br>Inertia=%{y}<br>text=%{text}<extra></extra>",
         "legendgroup": "",
         "line": {
          "color": "#636efa",
          "dash": "solid"
         },
         "mode": "lines+markers+text",
         "name": "",
         "orientation": "v",
         "showlegend": false,
         "text": [
          3202.21,
          1369.47,
          346.6,
          99.9,
          91.54,
          86.5,
          80.12,
          76.29,
          71.25,
          67.27,
          61.76,
          57.69,
          53.57,
          52.98,
          47.75,
          44.19,
          43.31,
          39.34
         ],
         "textposition": "top right",
         "type": "scatter",
         "x": [
          2,
          3,
          4,
          5,
          6,
          7,
          8,
          9,
          10,
          11,
          12,
          13,
          14,
          15,
          16,
          17,
          18,
          19
         ],
         "xaxis": "x",
         "y": [
          3202.2050912035666,
          1369.4718165230922,
          346.6026230843208,
          99.89991850388388,
          91.53963653906321,
          86.50115871791557,
          80.1238843573125,
          76.2896450426909,
          71.24614632773033,
          67.26825961945757,
          61.76024659623074,
          57.68568092113697,
          53.56605339039173,
          52.976886938416705,
          47.74503867150961,
          44.18753024568953,
          43.3102085165438,
          39.3437183080422
         ],
         "yaxis": "y"
        },
        {
         "line": {
          "color": "firebrick",
          "dash": "dot",
          "width": 2
         },
         "mode": "lines",
         "type": "scatter",
         "x": [
          5,
          5
         ],
         "y": [
          -1,
          3203
         ]
        }
       ],
       "layout": {
        "legend": {
         "tracegroupgap": 0
        },
        "margin": {
         "t": 60
        },
        "showlegend": false,
        "template": {
         "data": {
          "bar": [
           {
            "error_x": {
             "color": "#2a3f5f"
            },
            "error_y": {
             "color": "#2a3f5f"
            },
            "marker": {
             "line": {
              "color": "#E5ECF6",
              "width": 0.5
             }
            },
            "type": "bar"
           }
          ],
          "barpolar": [
           {
            "marker": {
             "line": {
              "color": "#E5ECF6",
              "width": 0.5
             }
            },
            "type": "barpolar"
           }
          ],
          "carpet": [
           {
            "aaxis": {
             "endlinecolor": "#2a3f5f",
             "gridcolor": "white",
             "linecolor": "white",
             "minorgridcolor": "white",
             "startlinecolor": "#2a3f5f"
            },
            "baxis": {
             "endlinecolor": "#2a3f5f",
             "gridcolor": "white",
             "linecolor": "white",
             "minorgridcolor": "white",
             "startlinecolor": "#2a3f5f"
            },
            "type": "carpet"
           }
          ],
          "choropleth": [
           {
            "colorbar": {
             "outlinewidth": 0,
             "ticks": ""
            },
            "type": "choropleth"
           }
          ],
          "contour": [
           {
            "colorbar": {
             "outlinewidth": 0,
             "ticks": ""
            },
            "colorscale": [
             [
              0,
              "#0d0887"
             ],
             [
              0.1111111111111111,
              "#46039f"
             ],
             [
              0.2222222222222222,
              "#7201a8"
             ],
             [
              0.3333333333333333,
              "#9c179e"
             ],
             [
              0.4444444444444444,
              "#bd3786"
             ],
             [
              0.5555555555555556,
              "#d8576b"
             ],
             [
              0.6666666666666666,
              "#ed7953"
             ],
             [
              0.7777777777777778,
              "#fb9f3a"
             ],
             [
              0.8888888888888888,
              "#fdca26"
             ],
             [
              1,
              "#f0f921"
             ]
            ],
            "type": "contour"
           }
          ],
          "contourcarpet": [
           {
            "colorbar": {
             "outlinewidth": 0,
             "ticks": ""
            },
            "type": "contourcarpet"
           }
          ],
          "heatmap": [
           {
            "colorbar": {
             "outlinewidth": 0,
             "ticks": ""
            },
            "colorscale": [
             [
              0,
              "#0d0887"
             ],
             [
              0.1111111111111111,
              "#46039f"
             ],
             [
              0.2222222222222222,
              "#7201a8"
             ],
             [
              0.3333333333333333,
              "#9c179e"
             ],
             [
              0.4444444444444444,
              "#bd3786"
             ],
             [
              0.5555555555555556,
              "#d8576b"
             ],
             [
              0.6666666666666666,
              "#ed7953"
             ],
             [
              0.7777777777777778,
              "#fb9f3a"
             ],
             [
              0.8888888888888888,
              "#fdca26"
             ],
             [
              1,
              "#f0f921"
             ]
            ],
            "type": "heatmap"
           }
          ],
          "heatmapgl": [
           {
            "colorbar": {
             "outlinewidth": 0,
             "ticks": ""
            },
            "colorscale": [
             [
              0,
              "#0d0887"
             ],
             [
              0.1111111111111111,
              "#46039f"
             ],
             [
              0.2222222222222222,
              "#7201a8"
             ],
             [
              0.3333333333333333,
              "#9c179e"
             ],
             [
              0.4444444444444444,
              "#bd3786"
             ],
             [
              0.5555555555555556,
              "#d8576b"
             ],
             [
              0.6666666666666666,
              "#ed7953"
             ],
             [
              0.7777777777777778,
              "#fb9f3a"
             ],
             [
              0.8888888888888888,
              "#fdca26"
             ],
             [
              1,
              "#f0f921"
             ]
            ],
            "type": "heatmapgl"
           }
          ],
          "histogram": [
           {
            "marker": {
             "colorbar": {
              "outlinewidth": 0,
              "ticks": ""
             }
            },
            "type": "histogram"
           }
          ],
          "histogram2d": [
           {
            "colorbar": {
             "outlinewidth": 0,
             "ticks": ""
            },
            "colorscale": [
             [
              0,
              "#0d0887"
             ],
             [
              0.1111111111111111,
              "#46039f"
             ],
             [
              0.2222222222222222,
              "#7201a8"
             ],
             [
              0.3333333333333333,
              "#9c179e"
             ],
             [
              0.4444444444444444,
              "#bd3786"
             ],
             [
              0.5555555555555556,
              "#d8576b"
             ],
             [
              0.6666666666666666,
              "#ed7953"
             ],
             [
              0.7777777777777778,
              "#fb9f3a"
             ],
             [
              0.8888888888888888,
              "#fdca26"
             ],
             [
              1,
              "#f0f921"
             ]
            ],
            "type": "histogram2d"
           }
          ],
          "histogram2dcontour": [
           {
            "colorbar": {
             "outlinewidth": 0,
             "ticks": ""
            },
            "colorscale": [
             [
              0,
              "#0d0887"
             ],
             [
              0.1111111111111111,
              "#46039f"
             ],
             [
              0.2222222222222222,
              "#7201a8"
             ],
             [
              0.3333333333333333,
              "#9c179e"
             ],
             [
              0.4444444444444444,
              "#bd3786"
             ],
             [
              0.5555555555555556,
              "#d8576b"
             ],
             [
              0.6666666666666666,
              "#ed7953"
             ],
             [
              0.7777777777777778,
              "#fb9f3a"
             ],
             [
              0.8888888888888888,
              "#fdca26"
             ],
             [
              1,
              "#f0f921"
             ]
            ],
            "type": "histogram2dcontour"
           }
          ],
          "mesh3d": [
           {
            "colorbar": {
             "outlinewidth": 0,
             "ticks": ""
            },
            "type": "mesh3d"
           }
          ],
          "parcoords": [
           {
            "line": {
             "colorbar": {
              "outlinewidth": 0,
              "ticks": ""
             }
            },
            "type": "parcoords"
           }
          ],
          "pie": [
           {
            "automargin": true,
            "type": "pie"
           }
          ],
          "scatter": [
           {
            "marker": {
             "colorbar": {
              "outlinewidth": 0,
              "ticks": ""
             }
            },
            "type": "scatter"
           }
          ],
          "scatter3d": [
           {
            "line": {
             "colorbar": {
              "outlinewidth": 0,
              "ticks": ""
             }
            },
            "marker": {
             "colorbar": {
              "outlinewidth": 0,
              "ticks": ""
             }
            },
            "type": "scatter3d"
           }
          ],
          "scattercarpet": [
           {
            "marker": {
             "colorbar": {
              "outlinewidth": 0,
              "ticks": ""
             }
            },
            "type": "scattercarpet"
           }
          ],
          "scattergeo": [
           {
            "marker": {
             "colorbar": {
              "outlinewidth": 0,
              "ticks": ""
             }
            },
            "type": "scattergeo"
           }
          ],
          "scattergl": [
           {
            "marker": {
             "colorbar": {
              "outlinewidth": 0,
              "ticks": ""
             }
            },
            "type": "scattergl"
           }
          ],
          "scattermapbox": [
           {
            "marker": {
             "colorbar": {
              "outlinewidth": 0,
              "ticks": ""
             }
            },
            "type": "scattermapbox"
           }
          ],
          "scatterpolar": [
           {
            "marker": {
             "colorbar": {
              "outlinewidth": 0,
              "ticks": ""
             }
            },
            "type": "scatterpolar"
           }
          ],
          "scatterpolargl": [
           {
            "marker": {
             "colorbar": {
              "outlinewidth": 0,
              "ticks": ""
             }
            },
            "type": "scatterpolargl"
           }
          ],
          "scatterternary": [
           {
            "marker": {
             "colorbar": {
              "outlinewidth": 0,
              "ticks": ""
             }
            },
            "type": "scatterternary"
           }
          ],
          "surface": [
           {
            "colorbar": {
             "outlinewidth": 0,
             "ticks": ""
            },
            "colorscale": [
             [
              0,
              "#0d0887"
             ],
             [
              0.1111111111111111,
              "#46039f"
             ],
             [
              0.2222222222222222,
              "#7201a8"
             ],
             [
              0.3333333333333333,
              "#9c179e"
             ],
             [
              0.4444444444444444,
              "#bd3786"
             ],
             [
              0.5555555555555556,
              "#d8576b"
             ],
             [
              0.6666666666666666,
              "#ed7953"
             ],
             [
              0.7777777777777778,
              "#fb9f3a"
             ],
             [
              0.8888888888888888,
              "#fdca26"
             ],
             [
              1,
              "#f0f921"
             ]
            ],
            "type": "surface"
           }
          ],
          "table": [
           {
            "cells": {
             "fill": {
              "color": "#EBF0F8"
             },
             "line": {
              "color": "white"
             }
            },
            "header": {
             "fill": {
              "color": "#C8D4E3"
             },
             "line": {
              "color": "white"
             }
            },
            "type": "table"
           }
          ]
         },
         "layout": {
          "annotationdefaults": {
           "arrowcolor": "#2a3f5f",
           "arrowhead": 0,
           "arrowwidth": 1
          },
          "coloraxis": {
           "colorbar": {
            "outlinewidth": 0,
            "ticks": ""
           }
          },
          "colorscale": {
           "diverging": [
            [
             0,
             "#8e0152"
            ],
            [
             0.1,
             "#c51b7d"
            ],
            [
             0.2,
             "#de77ae"
            ],
            [
             0.3,
             "#f1b6da"
            ],
            [
             0.4,
             "#fde0ef"
            ],
            [
             0.5,
             "#f7f7f7"
            ],
            [
             0.6,
             "#e6f5d0"
            ],
            [
             0.7,
             "#b8e186"
            ],
            [
             0.8,
             "#7fbc41"
            ],
            [
             0.9,
             "#4d9221"
            ],
            [
             1,
             "#276419"
            ]
           ],
           "sequential": [
            [
             0,
             "#0d0887"
            ],
            [
             0.1111111111111111,
             "#46039f"
            ],
            [
             0.2222222222222222,
             "#7201a8"
            ],
            [
             0.3333333333333333,
             "#9c179e"
            ],
            [
             0.4444444444444444,
             "#bd3786"
            ],
            [
             0.5555555555555556,
             "#d8576b"
            ],
            [
             0.6666666666666666,
             "#ed7953"
            ],
            [
             0.7777777777777778,
             "#fb9f3a"
            ],
            [
             0.8888888888888888,
             "#fdca26"
            ],
            [
             1,
             "#f0f921"
            ]
           ],
           "sequentialminus": [
            [
             0,
             "#0d0887"
            ],
            [
             0.1111111111111111,
             "#46039f"
            ],
            [
             0.2222222222222222,
             "#7201a8"
            ],
            [
             0.3333333333333333,
             "#9c179e"
            ],
            [
             0.4444444444444444,
             "#bd3786"
            ],
            [
             0.5555555555555556,
             "#d8576b"
            ],
            [
             0.6666666666666666,
             "#ed7953"
            ],
            [
             0.7777777777777778,
             "#fb9f3a"
            ],
            [
             0.8888888888888888,
             "#fdca26"
            ],
            [
             1,
             "#f0f921"
            ]
           ]
          },
          "colorway": [
           "#636efa",
           "#EF553B",
           "#00cc96",
           "#ab63fa",
           "#FFA15A",
           "#19d3f3",
           "#FF6692",
           "#B6E880",
           "#FF97FF",
           "#FECB52"
          ],
          "font": {
           "color": "#2a3f5f"
          },
          "geo": {
           "bgcolor": "white",
           "lakecolor": "white",
           "landcolor": "#E5ECF6",
           "showlakes": true,
           "showland": true,
           "subunitcolor": "white"
          },
          "hoverlabel": {
           "align": "left"
          },
          "hovermode": "closest",
          "mapbox": {
           "style": "light"
          },
          "paper_bgcolor": "white",
          "plot_bgcolor": "#E5ECF6",
          "polar": {
           "angularaxis": {
            "gridcolor": "white",
            "linecolor": "white",
            "ticks": ""
           },
           "bgcolor": "#E5ECF6",
           "radialaxis": {
            "gridcolor": "white",
            "linecolor": "white",
            "ticks": ""
           }
          },
          "scene": {
           "xaxis": {
            "backgroundcolor": "#E5ECF6",
            "gridcolor": "white",
            "gridwidth": 2,
            "linecolor": "white",
            "showbackground": true,
            "ticks": "",
            "zerolinecolor": "white"
           },
           "yaxis": {
            "backgroundcolor": "#E5ECF6",
            "gridcolor": "white",
            "gridwidth": 2,
            "linecolor": "white",
            "showbackground": true,
            "ticks": "",
            "zerolinecolor": "white"
           },
           "zaxis": {
            "backgroundcolor": "#E5ECF6",
            "gridcolor": "white",
            "gridwidth": 2,
            "linecolor": "white",
            "showbackground": true,
            "ticks": "",
            "zerolinecolor": "white"
           }
          },
          "shapedefaults": {
           "line": {
            "color": "#2a3f5f"
           }
          },
          "ternary": {
           "aaxis": {
            "gridcolor": "white",
            "linecolor": "white",
            "ticks": ""
           },
           "baxis": {
            "gridcolor": "white",
            "linecolor": "white",
            "ticks": ""
           },
           "bgcolor": "#E5ECF6",
           "caxis": {
            "gridcolor": "white",
            "linecolor": "white",
            "ticks": ""
           }
          },
          "title": {
           "x": 0.05
          },
          "xaxis": {
           "automargin": true,
           "gridcolor": "white",
           "linecolor": "white",
           "ticks": "",
           "title": {
            "standoff": 15
           },
           "zerolinecolor": "white",
           "zerolinewidth": 2
          },
          "yaxis": {
           "automargin": true,
           "gridcolor": "white",
           "linecolor": "white",
           "ticks": "",
           "title": {
            "standoff": 15
           },
           "zerolinecolor": "white",
           "zerolinewidth": 2
          }
         }
        },
        "xaxis": {
         "anchor": "y",
         "domain": [
          0,
          1
         ],
         "tickvals": [
          2,
          3,
          4,
          5,
          6,
          7,
          8,
          9,
          10,
          11,
          12,
          13,
          14,
          15,
          16,
          17,
          18,
          19
         ],
         "title": {
          "text": "Number of clusters"
         }
        },
        "yaxis": {
         "anchor": "x",
         "domain": [
          0,
          1
         ],
         "title": {
          "text": "Inertia"
         }
        }
       }
      },
      "text/html": [
       "<div>                            <div id=\"b8bafd1d-afd5-46d4-8071-5618283dcec7\" class=\"plotly-graph-div\" style=\"height:525px; width:100%;\"></div>            <script type=\"text/javascript\">                require([\"plotly\"], function(Plotly) {                    window.PLOTLYENV=window.PLOTLYENV || {};                                    if (document.getElementById(\"b8bafd1d-afd5-46d4-8071-5618283dcec7\")) {                    Plotly.newPlot(                        \"b8bafd1d-afd5-46d4-8071-5618283dcec7\",                        [{\"hovertemplate\": \"Number of clusters=%{x}<br>Inertia=%{y}<br>text=%{text}<extra></extra>\", \"legendgroup\": \"\", \"line\": {\"color\": \"#636efa\", \"dash\": \"solid\"}, \"mode\": \"lines+markers+text\", \"name\": \"\", \"orientation\": \"v\", \"showlegend\": false, \"text\": [3202.21, 1369.47, 346.6, 99.9, 91.54, 86.5, 80.12, 76.29, 71.25, 67.27, 61.76, 57.69, 53.57, 52.98, 47.75, 44.19, 43.31, 39.34], \"textposition\": \"top right\", \"type\": \"scatter\", \"x\": [2, 3, 4, 5, 6, 7, 8, 9, 10, 11, 12, 13, 14, 15, 16, 17, 18, 19], \"xaxis\": \"x\", \"y\": [3202.2050912035666, 1369.4718165230922, 346.6026230843208, 99.89991850388388, 91.53963653906321, 86.50115871791557, 80.1238843573125, 76.2896450426909, 71.24614632773033, 67.26825961945757, 61.76024659623074, 57.68568092113697, 53.56605339039173, 52.976886938416705, 47.74503867150961, 44.18753024568953, 43.3102085165438, 39.3437183080422], \"yaxis\": \"y\"}, {\"line\": {\"color\": \"firebrick\", \"dash\": \"dot\", \"width\": 2}, \"mode\": \"lines\", \"type\": \"scatter\", \"x\": [5, 5], \"y\": [-1, 3203]}],                        {\"legend\": {\"tracegroupgap\": 0}, \"margin\": {\"t\": 60}, \"showlegend\": false, \"template\": {\"data\": {\"bar\": [{\"error_x\": {\"color\": \"#2a3f5f\"}, \"error_y\": {\"color\": \"#2a3f5f\"}, \"marker\": {\"line\": {\"color\": \"#E5ECF6\", \"width\": 0.5}}, \"type\": \"bar\"}], \"barpolar\": [{\"marker\": {\"line\": {\"color\": \"#E5ECF6\", \"width\": 0.5}}, \"type\": \"barpolar\"}], \"carpet\": [{\"aaxis\": {\"endlinecolor\": \"#2a3f5f\", \"gridcolor\": \"white\", \"linecolor\": \"white\", \"minorgridcolor\": \"white\", \"startlinecolor\": \"#2a3f5f\"}, \"baxis\": {\"endlinecolor\": \"#2a3f5f\", \"gridcolor\": \"white\", \"linecolor\": \"white\", \"minorgridcolor\": \"white\", \"startlinecolor\": \"#2a3f5f\"}, \"type\": \"carpet\"}], \"choropleth\": [{\"colorbar\": {\"outlinewidth\": 0, \"ticks\": \"\"}, \"type\": \"choropleth\"}], \"contour\": [{\"colorbar\": {\"outlinewidth\": 0, \"ticks\": \"\"}, \"colorscale\": [[0.0, \"#0d0887\"], [0.1111111111111111, \"#46039f\"], [0.2222222222222222, \"#7201a8\"], [0.3333333333333333, \"#9c179e\"], [0.4444444444444444, \"#bd3786\"], [0.5555555555555556, \"#d8576b\"], [0.6666666666666666, \"#ed7953\"], [0.7777777777777778, \"#fb9f3a\"], [0.8888888888888888, \"#fdca26\"], [1.0, \"#f0f921\"]], \"type\": \"contour\"}], \"contourcarpet\": [{\"colorbar\": {\"outlinewidth\": 0, \"ticks\": \"\"}, \"type\": \"contourcarpet\"}], \"heatmap\": [{\"colorbar\": {\"outlinewidth\": 0, \"ticks\": \"\"}, \"colorscale\": [[0.0, \"#0d0887\"], [0.1111111111111111, \"#46039f\"], [0.2222222222222222, \"#7201a8\"], [0.3333333333333333, \"#9c179e\"], [0.4444444444444444, \"#bd3786\"], [0.5555555555555556, \"#d8576b\"], [0.6666666666666666, \"#ed7953\"], [0.7777777777777778, \"#fb9f3a\"], [0.8888888888888888, \"#fdca26\"], [1.0, \"#f0f921\"]], \"type\": \"heatmap\"}], \"heatmapgl\": [{\"colorbar\": {\"outlinewidth\": 0, \"ticks\": \"\"}, \"colorscale\": [[0.0, \"#0d0887\"], [0.1111111111111111, \"#46039f\"], [0.2222222222222222, \"#7201a8\"], [0.3333333333333333, \"#9c179e\"], [0.4444444444444444, \"#bd3786\"], [0.5555555555555556, \"#d8576b\"], [0.6666666666666666, \"#ed7953\"], [0.7777777777777778, \"#fb9f3a\"], [0.8888888888888888, \"#fdca26\"], [1.0, \"#f0f921\"]], \"type\": \"heatmapgl\"}], \"histogram\": [{\"marker\": {\"colorbar\": {\"outlinewidth\": 0, \"ticks\": \"\"}}, \"type\": \"histogram\"}], \"histogram2d\": [{\"colorbar\": {\"outlinewidth\": 0, \"ticks\": \"\"}, \"colorscale\": [[0.0, \"#0d0887\"], [0.1111111111111111, \"#46039f\"], [0.2222222222222222, \"#7201a8\"], [0.3333333333333333, \"#9c179e\"], [0.4444444444444444, \"#bd3786\"], [0.5555555555555556, \"#d8576b\"], [0.6666666666666666, \"#ed7953\"], [0.7777777777777778, \"#fb9f3a\"], [0.8888888888888888, \"#fdca26\"], [1.0, \"#f0f921\"]], \"type\": \"histogram2d\"}], \"histogram2dcontour\": [{\"colorbar\": {\"outlinewidth\": 0, \"ticks\": \"\"}, \"colorscale\": [[0.0, \"#0d0887\"], [0.1111111111111111, \"#46039f\"], [0.2222222222222222, \"#7201a8\"], [0.3333333333333333, \"#9c179e\"], [0.4444444444444444, \"#bd3786\"], [0.5555555555555556, \"#d8576b\"], [0.6666666666666666, \"#ed7953\"], [0.7777777777777778, \"#fb9f3a\"], [0.8888888888888888, \"#fdca26\"], [1.0, \"#f0f921\"]], \"type\": \"histogram2dcontour\"}], \"mesh3d\": [{\"colorbar\": {\"outlinewidth\": 0, \"ticks\": \"\"}, \"type\": \"mesh3d\"}], \"parcoords\": [{\"line\": {\"colorbar\": {\"outlinewidth\": 0, \"ticks\": \"\"}}, \"type\": \"parcoords\"}], \"pie\": [{\"automargin\": true, \"type\": \"pie\"}], \"scatter\": [{\"marker\": {\"colorbar\": {\"outlinewidth\": 0, \"ticks\": \"\"}}, \"type\": \"scatter\"}], \"scatter3d\": [{\"line\": {\"colorbar\": {\"outlinewidth\": 0, \"ticks\": \"\"}}, \"marker\": {\"colorbar\": {\"outlinewidth\": 0, \"ticks\": \"\"}}, \"type\": \"scatter3d\"}], \"scattercarpet\": [{\"marker\": {\"colorbar\": {\"outlinewidth\": 0, \"ticks\": \"\"}}, \"type\": \"scattercarpet\"}], \"scattergeo\": [{\"marker\": {\"colorbar\": {\"outlinewidth\": 0, \"ticks\": \"\"}}, \"type\": \"scattergeo\"}], \"scattergl\": [{\"marker\": {\"colorbar\": {\"outlinewidth\": 0, \"ticks\": \"\"}}, \"type\": \"scattergl\"}], \"scattermapbox\": [{\"marker\": {\"colorbar\": {\"outlinewidth\": 0, \"ticks\": \"\"}}, \"type\": \"scattermapbox\"}], \"scatterpolar\": [{\"marker\": {\"colorbar\": {\"outlinewidth\": 0, \"ticks\": \"\"}}, \"type\": \"scatterpolar\"}], \"scatterpolargl\": [{\"marker\": {\"colorbar\": {\"outlinewidth\": 0, \"ticks\": \"\"}}, \"type\": \"scatterpolargl\"}], \"scatterternary\": [{\"marker\": {\"colorbar\": {\"outlinewidth\": 0, \"ticks\": \"\"}}, \"type\": \"scatterternary\"}], \"surface\": [{\"colorbar\": {\"outlinewidth\": 0, \"ticks\": \"\"}, \"colorscale\": [[0.0, \"#0d0887\"], [0.1111111111111111, \"#46039f\"], [0.2222222222222222, \"#7201a8\"], [0.3333333333333333, \"#9c179e\"], [0.4444444444444444, \"#bd3786\"], [0.5555555555555556, \"#d8576b\"], [0.6666666666666666, \"#ed7953\"], [0.7777777777777778, \"#fb9f3a\"], [0.8888888888888888, \"#fdca26\"], [1.0, \"#f0f921\"]], \"type\": \"surface\"}], \"table\": [{\"cells\": {\"fill\": {\"color\": \"#EBF0F8\"}, \"line\": {\"color\": \"white\"}}, \"header\": {\"fill\": {\"color\": \"#C8D4E3\"}, \"line\": {\"color\": \"white\"}}, \"type\": \"table\"}]}, \"layout\": {\"annotationdefaults\": {\"arrowcolor\": \"#2a3f5f\", \"arrowhead\": 0, \"arrowwidth\": 1}, \"coloraxis\": {\"colorbar\": {\"outlinewidth\": 0, \"ticks\": \"\"}}, \"colorscale\": {\"diverging\": [[0, \"#8e0152\"], [0.1, \"#c51b7d\"], [0.2, \"#de77ae\"], [0.3, \"#f1b6da\"], [0.4, \"#fde0ef\"], [0.5, \"#f7f7f7\"], [0.6, \"#e6f5d0\"], [0.7, \"#b8e186\"], [0.8, \"#7fbc41\"], [0.9, \"#4d9221\"], [1, \"#276419\"]], \"sequential\": [[0.0, \"#0d0887\"], [0.1111111111111111, \"#46039f\"], [0.2222222222222222, \"#7201a8\"], [0.3333333333333333, \"#9c179e\"], [0.4444444444444444, \"#bd3786\"], [0.5555555555555556, \"#d8576b\"], [0.6666666666666666, \"#ed7953\"], [0.7777777777777778, \"#fb9f3a\"], [0.8888888888888888, \"#fdca26\"], [1.0, \"#f0f921\"]], \"sequentialminus\": [[0.0, \"#0d0887\"], [0.1111111111111111, \"#46039f\"], [0.2222222222222222, \"#7201a8\"], [0.3333333333333333, \"#9c179e\"], [0.4444444444444444, \"#bd3786\"], [0.5555555555555556, \"#d8576b\"], [0.6666666666666666, \"#ed7953\"], [0.7777777777777778, \"#fb9f3a\"], [0.8888888888888888, \"#fdca26\"], [1.0, \"#f0f921\"]]}, \"colorway\": [\"#636efa\", \"#EF553B\", \"#00cc96\", \"#ab63fa\", \"#FFA15A\", \"#19d3f3\", \"#FF6692\", \"#B6E880\", \"#FF97FF\", \"#FECB52\"], \"font\": {\"color\": \"#2a3f5f\"}, \"geo\": {\"bgcolor\": \"white\", \"lakecolor\": \"white\", \"landcolor\": \"#E5ECF6\", \"showlakes\": true, \"showland\": true, \"subunitcolor\": \"white\"}, \"hoverlabel\": {\"align\": \"left\"}, \"hovermode\": \"closest\", \"mapbox\": {\"style\": \"light\"}, \"paper_bgcolor\": \"white\", \"plot_bgcolor\": \"#E5ECF6\", \"polar\": {\"angularaxis\": {\"gridcolor\": \"white\", \"linecolor\": \"white\", \"ticks\": \"\"}, \"bgcolor\": \"#E5ECF6\", \"radialaxis\": {\"gridcolor\": \"white\", \"linecolor\": \"white\", \"ticks\": \"\"}}, \"scene\": {\"xaxis\": {\"backgroundcolor\": \"#E5ECF6\", \"gridcolor\": \"white\", \"gridwidth\": 2, \"linecolor\": \"white\", \"showbackground\": true, \"ticks\": \"\", \"zerolinecolor\": \"white\"}, \"yaxis\": {\"backgroundcolor\": \"#E5ECF6\", \"gridcolor\": \"white\", \"gridwidth\": 2, \"linecolor\": \"white\", \"showbackground\": true, \"ticks\": \"\", \"zerolinecolor\": \"white\"}, \"zaxis\": {\"backgroundcolor\": \"#E5ECF6\", \"gridcolor\": \"white\", \"gridwidth\": 2, \"linecolor\": \"white\", \"showbackground\": true, \"ticks\": \"\", \"zerolinecolor\": \"white\"}}, \"shapedefaults\": {\"line\": {\"color\": \"#2a3f5f\"}}, \"ternary\": {\"aaxis\": {\"gridcolor\": \"white\", \"linecolor\": \"white\", \"ticks\": \"\"}, \"baxis\": {\"gridcolor\": \"white\", \"linecolor\": \"white\", \"ticks\": \"\"}, \"bgcolor\": \"#E5ECF6\", \"caxis\": {\"gridcolor\": \"white\", \"linecolor\": \"white\", \"ticks\": \"\"}}, \"title\": {\"x\": 0.05}, \"xaxis\": {\"automargin\": true, \"gridcolor\": \"white\", \"linecolor\": \"white\", \"ticks\": \"\", \"title\": {\"standoff\": 15}, \"zerolinecolor\": \"white\", \"zerolinewidth\": 2}, \"yaxis\": {\"automargin\": true, \"gridcolor\": \"white\", \"linecolor\": \"white\", \"ticks\": \"\", \"title\": {\"standoff\": 15}, \"zerolinecolor\": \"white\", \"zerolinewidth\": 2}}}, \"xaxis\": {\"anchor\": \"y\", \"domain\": [0.0, 1.0], \"tickvals\": [2, 3, 4, 5, 6, 7, 8, 9, 10, 11, 12, 13, 14, 15, 16, 17, 18, 19], \"title\": {\"text\": \"Number of clusters\"}}, \"yaxis\": {\"anchor\": \"x\", \"domain\": [0.0, 1.0], \"title\": {\"text\": \"Inertia\"}}},                        {\"responsive\": true}                    ).then(function(){\n",
       "                            \n",
       "var gd = document.getElementById('b8bafd1d-afd5-46d4-8071-5618283dcec7');\n",
       "var x = new MutationObserver(function (mutations, observer) {{\n",
       "        var display = window.getComputedStyle(gd).display;\n",
       "        if (!display || display === 'none') {{\n",
       "            console.log([gd, 'removed!']);\n",
       "            Plotly.purge(gd);\n",
       "            observer.disconnect();\n",
       "        }}\n",
       "}});\n",
       "\n",
       "// Listen for the removal of the full notebook cells\n",
       "var notebookContainer = gd.closest('#notebook-container');\n",
       "if (notebookContainer) {{\n",
       "    x.observe(notebookContainer, {childList: true});\n",
       "}}\n",
       "\n",
       "// Listen for the clearing of the current output cell\n",
       "var outputEl = gd.closest('.output');\n",
       "if (outputEl) {{\n",
       "    x.observe(outputEl, {childList: true});\n",
       "}}\n",
       "\n",
       "                        })                };                });            </script>        </div>"
      ]
     },
     "metadata": {},
     "output_type": "display_data"
    }
   ],
   "source": [
    "fig = px.line(x=list(range(2,len(inetria)+2)), y=inetria, text=[round(vl,2) for vl in inetria],\n",
    "            labels = dict(x='Number of clusters', y='Inertia'))\n",
    "fig.update_traces(textposition='top right')\n",
    "#                  , marker = dict(color = pt_clrs))\n",
    "fig.add_trace(go.Scatter(x=[kn.knee] * 2, y=[-1, mt.ceil(max(inetria))],\n",
    "                         line = dict(color='firebrick', width=2, dash='dot'),\n",
    "                    mode='lines'))\n",
    "fig.update_layout(\n",
    "    xaxis = dict(tickvals = list(range(2,len(inetria)+2))),\n",
    "    showlegend=False)\n",
    "fig.show()"
   ]
  },
  {
   "cell_type": "markdown",
   "id": "statistical-lesbian",
   "metadata": {
    "ExecuteTime": {
     "end_time": "2021-09-23T08:35:20.562258Z",
     "start_time": "2021-09-23T08:35:20.537281Z"
    }
   },
   "source": [
    "#### Silhouette Analysis"
   ]
  },
  {
   "cell_type": "markdown",
   "id": "consistent-guard",
   "metadata": {},
   "source": [
    "1.\tSilhouette is a measure of how closely packed the samples in the clusters are\n",
    "2.\tSilhouette is calculated as (cluster separation - cluster cohesion) / max (cluster cohesion, cluster separation)\n",
    "3.\tCluster cohesion is the average distance between a data point and all other data points in the same cluster. Lesser the cohesion value tightly packed the samples in the cluster\n",
    "4.\tCluster separation is the average distance between a data point in a cluster and all data points in the nearest cluster. Higher the separation value higher the difference between the clusters\n",
    "5.\tFrom the definitions of Cluster cohesion and Cluster separation, we can understand that, for a good clustering result, the cohesion value should be lower and separation value should be higher (i.e. Silhouette coefficient being positive)\n",
    "6.\tSilhouette coefficient lies in the range of -1 to 1.  Higher the silhouette score better is the clustering"
   ]
  },
  {
   "cell_type": "markdown",
   "id": "banned-schedule",
   "metadata": {
    "ExecuteTime": {
     "end_time": "2021-09-23T14:55:37.470210Z",
     "start_time": "2021-09-23T14:55:37.447193Z"
    }
   },
   "source": [
    "For the example data taken, Silhouette coefficient is higher for K = 5"
   ]
  },
  {
   "cell_type": "code",
   "execution_count": 88,
   "id": "minimal-consumption",
   "metadata": {
    "ExecuteTime": {
     "end_time": "2021-09-23T15:22:38.200594Z",
     "start_time": "2021-09-23T15:22:38.154586Z"
    }
   },
   "outputs": [],
   "source": [
    "bar_clrs = list(map(lambda x: {0:'#2596be', 1:'#e28743'}[x], (silhouette == max(silhouette)).astype(int)))"
   ]
  },
  {
   "cell_type": "code",
   "execution_count": 89,
   "id": "white-california",
   "metadata": {
    "ExecuteTime": {
     "end_time": "2021-09-23T15:22:45.199744Z",
     "start_time": "2021-09-23T15:22:44.960732Z"
    }
   },
   "outputs": [
    {
     "data": {
      "application/vnd.plotly.v1+json": {
       "config": {
        "plotlyServerURL": "https://plot.ly"
       },
       "data": [
        {
         "alignmentgroup": "True",
         "hovertemplate": "Number of clusters=%{x}<br>silhouette score=%{y}<br>text=%{text}<extra></extra>",
         "legendgroup": "",
         "marker": {
          "color": [
           "#2596be",
           "#2596be",
           "#2596be",
           "#e28743",
           "#2596be",
           "#2596be",
           "#2596be",
           "#2596be",
           "#2596be",
           "#2596be",
           "#2596be",
           "#2596be",
           "#2596be",
           "#2596be",
           "#2596be",
           "#2596be",
           "#2596be",
           "#2596be"
          ]
         },
         "name": "",
         "offsetgroup": "",
         "orientation": "v",
         "showlegend": false,
         "text": [
          0.61,
          0.67,
          0.78,
          0.81,
          0.71,
          0.57,
          0.48,
          0.49,
          0.39,
          0.26,
          0.38,
          0.29,
          0.29,
          0.27,
          0.29,
          0.29,
          0.31,
          0.3
         ],
         "textposition": "outside",
         "type": "bar",
         "x": [
          2,
          3,
          4,
          5,
          6,
          7,
          8,
          9,
          10,
          11,
          12,
          13,
          14,
          15,
          16,
          17,
          18,
          19
         ],
         "xaxis": "x",
         "y": [
          0.6076265972797393,
          0.6747436656444853,
          0.7757387974388823,
          0.8136126944426475,
          0.7114983417145743,
          0.5735201649311427,
          0.478127388592139,
          0.4869164016677804,
          0.38756719218442215,
          0.2614237391101221,
          0.37819387553729766,
          0.29216065466737356,
          0.2872068245168319,
          0.2722659528106747,
          0.2878660104185455,
          0.28814241732531193,
          0.3055654989539388,
          0.3013789354819275
         ],
         "yaxis": "y"
        }
       ],
       "layout": {
        "barmode": "relative",
        "legend": {
         "tracegroupgap": 0
        },
        "margin": {
         "t": 60
        },
        "template": {
         "data": {
          "bar": [
           {
            "error_x": {
             "color": "#2a3f5f"
            },
            "error_y": {
             "color": "#2a3f5f"
            },
            "marker": {
             "line": {
              "color": "#E5ECF6",
              "width": 0.5
             }
            },
            "type": "bar"
           }
          ],
          "barpolar": [
           {
            "marker": {
             "line": {
              "color": "#E5ECF6",
              "width": 0.5
             }
            },
            "type": "barpolar"
           }
          ],
          "carpet": [
           {
            "aaxis": {
             "endlinecolor": "#2a3f5f",
             "gridcolor": "white",
             "linecolor": "white",
             "minorgridcolor": "white",
             "startlinecolor": "#2a3f5f"
            },
            "baxis": {
             "endlinecolor": "#2a3f5f",
             "gridcolor": "white",
             "linecolor": "white",
             "minorgridcolor": "white",
             "startlinecolor": "#2a3f5f"
            },
            "type": "carpet"
           }
          ],
          "choropleth": [
           {
            "colorbar": {
             "outlinewidth": 0,
             "ticks": ""
            },
            "type": "choropleth"
           }
          ],
          "contour": [
           {
            "colorbar": {
             "outlinewidth": 0,
             "ticks": ""
            },
            "colorscale": [
             [
              0,
              "#0d0887"
             ],
             [
              0.1111111111111111,
              "#46039f"
             ],
             [
              0.2222222222222222,
              "#7201a8"
             ],
             [
              0.3333333333333333,
              "#9c179e"
             ],
             [
              0.4444444444444444,
              "#bd3786"
             ],
             [
              0.5555555555555556,
              "#d8576b"
             ],
             [
              0.6666666666666666,
              "#ed7953"
             ],
             [
              0.7777777777777778,
              "#fb9f3a"
             ],
             [
              0.8888888888888888,
              "#fdca26"
             ],
             [
              1,
              "#f0f921"
             ]
            ],
            "type": "contour"
           }
          ],
          "contourcarpet": [
           {
            "colorbar": {
             "outlinewidth": 0,
             "ticks": ""
            },
            "type": "contourcarpet"
           }
          ],
          "heatmap": [
           {
            "colorbar": {
             "outlinewidth": 0,
             "ticks": ""
            },
            "colorscale": [
             [
              0,
              "#0d0887"
             ],
             [
              0.1111111111111111,
              "#46039f"
             ],
             [
              0.2222222222222222,
              "#7201a8"
             ],
             [
              0.3333333333333333,
              "#9c179e"
             ],
             [
              0.4444444444444444,
              "#bd3786"
             ],
             [
              0.5555555555555556,
              "#d8576b"
             ],
             [
              0.6666666666666666,
              "#ed7953"
             ],
             [
              0.7777777777777778,
              "#fb9f3a"
             ],
             [
              0.8888888888888888,
              "#fdca26"
             ],
             [
              1,
              "#f0f921"
             ]
            ],
            "type": "heatmap"
           }
          ],
          "heatmapgl": [
           {
            "colorbar": {
             "outlinewidth": 0,
             "ticks": ""
            },
            "colorscale": [
             [
              0,
              "#0d0887"
             ],
             [
              0.1111111111111111,
              "#46039f"
             ],
             [
              0.2222222222222222,
              "#7201a8"
             ],
             [
              0.3333333333333333,
              "#9c179e"
             ],
             [
              0.4444444444444444,
              "#bd3786"
             ],
             [
              0.5555555555555556,
              "#d8576b"
             ],
             [
              0.6666666666666666,
              "#ed7953"
             ],
             [
              0.7777777777777778,
              "#fb9f3a"
             ],
             [
              0.8888888888888888,
              "#fdca26"
             ],
             [
              1,
              "#f0f921"
             ]
            ],
            "type": "heatmapgl"
           }
          ],
          "histogram": [
           {
            "marker": {
             "colorbar": {
              "outlinewidth": 0,
              "ticks": ""
             }
            },
            "type": "histogram"
           }
          ],
          "histogram2d": [
           {
            "colorbar": {
             "outlinewidth": 0,
             "ticks": ""
            },
            "colorscale": [
             [
              0,
              "#0d0887"
             ],
             [
              0.1111111111111111,
              "#46039f"
             ],
             [
              0.2222222222222222,
              "#7201a8"
             ],
             [
              0.3333333333333333,
              "#9c179e"
             ],
             [
              0.4444444444444444,
              "#bd3786"
             ],
             [
              0.5555555555555556,
              "#d8576b"
             ],
             [
              0.6666666666666666,
              "#ed7953"
             ],
             [
              0.7777777777777778,
              "#fb9f3a"
             ],
             [
              0.8888888888888888,
              "#fdca26"
             ],
             [
              1,
              "#f0f921"
             ]
            ],
            "type": "histogram2d"
           }
          ],
          "histogram2dcontour": [
           {
            "colorbar": {
             "outlinewidth": 0,
             "ticks": ""
            },
            "colorscale": [
             [
              0,
              "#0d0887"
             ],
             [
              0.1111111111111111,
              "#46039f"
             ],
             [
              0.2222222222222222,
              "#7201a8"
             ],
             [
              0.3333333333333333,
              "#9c179e"
             ],
             [
              0.4444444444444444,
              "#bd3786"
             ],
             [
              0.5555555555555556,
              "#d8576b"
             ],
             [
              0.6666666666666666,
              "#ed7953"
             ],
             [
              0.7777777777777778,
              "#fb9f3a"
             ],
             [
              0.8888888888888888,
              "#fdca26"
             ],
             [
              1,
              "#f0f921"
             ]
            ],
            "type": "histogram2dcontour"
           }
          ],
          "mesh3d": [
           {
            "colorbar": {
             "outlinewidth": 0,
             "ticks": ""
            },
            "type": "mesh3d"
           }
          ],
          "parcoords": [
           {
            "line": {
             "colorbar": {
              "outlinewidth": 0,
              "ticks": ""
             }
            },
            "type": "parcoords"
           }
          ],
          "pie": [
           {
            "automargin": true,
            "type": "pie"
           }
          ],
          "scatter": [
           {
            "marker": {
             "colorbar": {
              "outlinewidth": 0,
              "ticks": ""
             }
            },
            "type": "scatter"
           }
          ],
          "scatter3d": [
           {
            "line": {
             "colorbar": {
              "outlinewidth": 0,
              "ticks": ""
             }
            },
            "marker": {
             "colorbar": {
              "outlinewidth": 0,
              "ticks": ""
             }
            },
            "type": "scatter3d"
           }
          ],
          "scattercarpet": [
           {
            "marker": {
             "colorbar": {
              "outlinewidth": 0,
              "ticks": ""
             }
            },
            "type": "scattercarpet"
           }
          ],
          "scattergeo": [
           {
            "marker": {
             "colorbar": {
              "outlinewidth": 0,
              "ticks": ""
             }
            },
            "type": "scattergeo"
           }
          ],
          "scattergl": [
           {
            "marker": {
             "colorbar": {
              "outlinewidth": 0,
              "ticks": ""
             }
            },
            "type": "scattergl"
           }
          ],
          "scattermapbox": [
           {
            "marker": {
             "colorbar": {
              "outlinewidth": 0,
              "ticks": ""
             }
            },
            "type": "scattermapbox"
           }
          ],
          "scatterpolar": [
           {
            "marker": {
             "colorbar": {
              "outlinewidth": 0,
              "ticks": ""
             }
            },
            "type": "scatterpolar"
           }
          ],
          "scatterpolargl": [
           {
            "marker": {
             "colorbar": {
              "outlinewidth": 0,
              "ticks": ""
             }
            },
            "type": "scatterpolargl"
           }
          ],
          "scatterternary": [
           {
            "marker": {
             "colorbar": {
              "outlinewidth": 0,
              "ticks": ""
             }
            },
            "type": "scatterternary"
           }
          ],
          "surface": [
           {
            "colorbar": {
             "outlinewidth": 0,
             "ticks": ""
            },
            "colorscale": [
             [
              0,
              "#0d0887"
             ],
             [
              0.1111111111111111,
              "#46039f"
             ],
             [
              0.2222222222222222,
              "#7201a8"
             ],
             [
              0.3333333333333333,
              "#9c179e"
             ],
             [
              0.4444444444444444,
              "#bd3786"
             ],
             [
              0.5555555555555556,
              "#d8576b"
             ],
             [
              0.6666666666666666,
              "#ed7953"
             ],
             [
              0.7777777777777778,
              "#fb9f3a"
             ],
             [
              0.8888888888888888,
              "#fdca26"
             ],
             [
              1,
              "#f0f921"
             ]
            ],
            "type": "surface"
           }
          ],
          "table": [
           {
            "cells": {
             "fill": {
              "color": "#EBF0F8"
             },
             "line": {
              "color": "white"
             }
            },
            "header": {
             "fill": {
              "color": "#C8D4E3"
             },
             "line": {
              "color": "white"
             }
            },
            "type": "table"
           }
          ]
         },
         "layout": {
          "annotationdefaults": {
           "arrowcolor": "#2a3f5f",
           "arrowhead": 0,
           "arrowwidth": 1
          },
          "coloraxis": {
           "colorbar": {
            "outlinewidth": 0,
            "ticks": ""
           }
          },
          "colorscale": {
           "diverging": [
            [
             0,
             "#8e0152"
            ],
            [
             0.1,
             "#c51b7d"
            ],
            [
             0.2,
             "#de77ae"
            ],
            [
             0.3,
             "#f1b6da"
            ],
            [
             0.4,
             "#fde0ef"
            ],
            [
             0.5,
             "#f7f7f7"
            ],
            [
             0.6,
             "#e6f5d0"
            ],
            [
             0.7,
             "#b8e186"
            ],
            [
             0.8,
             "#7fbc41"
            ],
            [
             0.9,
             "#4d9221"
            ],
            [
             1,
             "#276419"
            ]
           ],
           "sequential": [
            [
             0,
             "#0d0887"
            ],
            [
             0.1111111111111111,
             "#46039f"
            ],
            [
             0.2222222222222222,
             "#7201a8"
            ],
            [
             0.3333333333333333,
             "#9c179e"
            ],
            [
             0.4444444444444444,
             "#bd3786"
            ],
            [
             0.5555555555555556,
             "#d8576b"
            ],
            [
             0.6666666666666666,
             "#ed7953"
            ],
            [
             0.7777777777777778,
             "#fb9f3a"
            ],
            [
             0.8888888888888888,
             "#fdca26"
            ],
            [
             1,
             "#f0f921"
            ]
           ],
           "sequentialminus": [
            [
             0,
             "#0d0887"
            ],
            [
             0.1111111111111111,
             "#46039f"
            ],
            [
             0.2222222222222222,
             "#7201a8"
            ],
            [
             0.3333333333333333,
             "#9c179e"
            ],
            [
             0.4444444444444444,
             "#bd3786"
            ],
            [
             0.5555555555555556,
             "#d8576b"
            ],
            [
             0.6666666666666666,
             "#ed7953"
            ],
            [
             0.7777777777777778,
             "#fb9f3a"
            ],
            [
             0.8888888888888888,
             "#fdca26"
            ],
            [
             1,
             "#f0f921"
            ]
           ]
          },
          "colorway": [
           "#636efa",
           "#EF553B",
           "#00cc96",
           "#ab63fa",
           "#FFA15A",
           "#19d3f3",
           "#FF6692",
           "#B6E880",
           "#FF97FF",
           "#FECB52"
          ],
          "font": {
           "color": "#2a3f5f"
          },
          "geo": {
           "bgcolor": "white",
           "lakecolor": "white",
           "landcolor": "#E5ECF6",
           "showlakes": true,
           "showland": true,
           "subunitcolor": "white"
          },
          "hoverlabel": {
           "align": "left"
          },
          "hovermode": "closest",
          "mapbox": {
           "style": "light"
          },
          "paper_bgcolor": "white",
          "plot_bgcolor": "#E5ECF6",
          "polar": {
           "angularaxis": {
            "gridcolor": "white",
            "linecolor": "white",
            "ticks": ""
           },
           "bgcolor": "#E5ECF6",
           "radialaxis": {
            "gridcolor": "white",
            "linecolor": "white",
            "ticks": ""
           }
          },
          "scene": {
           "xaxis": {
            "backgroundcolor": "#E5ECF6",
            "gridcolor": "white",
            "gridwidth": 2,
            "linecolor": "white",
            "showbackground": true,
            "ticks": "",
            "zerolinecolor": "white"
           },
           "yaxis": {
            "backgroundcolor": "#E5ECF6",
            "gridcolor": "white",
            "gridwidth": 2,
            "linecolor": "white",
            "showbackground": true,
            "ticks": "",
            "zerolinecolor": "white"
           },
           "zaxis": {
            "backgroundcolor": "#E5ECF6",
            "gridcolor": "white",
            "gridwidth": 2,
            "linecolor": "white",
            "showbackground": true,
            "ticks": "",
            "zerolinecolor": "white"
           }
          },
          "shapedefaults": {
           "line": {
            "color": "#2a3f5f"
           }
          },
          "ternary": {
           "aaxis": {
            "gridcolor": "white",
            "linecolor": "white",
            "ticks": ""
           },
           "baxis": {
            "gridcolor": "white",
            "linecolor": "white",
            "ticks": ""
           },
           "bgcolor": "#E5ECF6",
           "caxis": {
            "gridcolor": "white",
            "linecolor": "white",
            "ticks": ""
           }
          },
          "title": {
           "x": 0.05
          },
          "xaxis": {
           "automargin": true,
           "gridcolor": "white",
           "linecolor": "white",
           "ticks": "",
           "title": {
            "standoff": 15
           },
           "zerolinecolor": "white",
           "zerolinewidth": 2
          },
          "yaxis": {
           "automargin": true,
           "gridcolor": "white",
           "linecolor": "white",
           "ticks": "",
           "title": {
            "standoff": 15
           },
           "zerolinecolor": "white",
           "zerolinewidth": 2
          }
         }
        },
        "xaxis": {
         "anchor": "y",
         "domain": [
          0,
          1
         ],
         "tickvals": [
          2,
          3,
          4,
          5,
          6,
          7,
          8,
          9,
          10,
          11,
          12,
          13,
          14,
          15,
          16,
          17,
          18,
          19
         ],
         "title": {
          "text": "Number of clusters"
         }
        },
        "yaxis": {
         "anchor": "x",
         "domain": [
          0,
          1
         ],
         "title": {
          "text": "silhouette score"
         }
        }
       }
      },
      "text/html": [
       "<div>                            <div id=\"7df28883-5615-4399-bf70-37559c7913a0\" class=\"plotly-graph-div\" style=\"height:525px; width:100%;\"></div>            <script type=\"text/javascript\">                require([\"plotly\"], function(Plotly) {                    window.PLOTLYENV=window.PLOTLYENV || {};                                    if (document.getElementById(\"7df28883-5615-4399-bf70-37559c7913a0\")) {                    Plotly.newPlot(                        \"7df28883-5615-4399-bf70-37559c7913a0\",                        [{\"alignmentgroup\": \"True\", \"hovertemplate\": \"Number of clusters=%{x}<br>silhouette score=%{y}<br>text=%{text}<extra></extra>\", \"legendgroup\": \"\", \"marker\": {\"color\": [\"#2596be\", \"#2596be\", \"#2596be\", \"#e28743\", \"#2596be\", \"#2596be\", \"#2596be\", \"#2596be\", \"#2596be\", \"#2596be\", \"#2596be\", \"#2596be\", \"#2596be\", \"#2596be\", \"#2596be\", \"#2596be\", \"#2596be\", \"#2596be\"]}, \"name\": \"\", \"offsetgroup\": \"\", \"orientation\": \"v\", \"showlegend\": false, \"text\": [0.61, 0.67, 0.78, 0.81, 0.71, 0.57, 0.48, 0.49, 0.39, 0.26, 0.38, 0.29, 0.29, 0.27, 0.29, 0.29, 0.31, 0.3], \"textposition\": \"outside\", \"type\": \"bar\", \"x\": [2, 3, 4, 5, 6, 7, 8, 9, 10, 11, 12, 13, 14, 15, 16, 17, 18, 19], \"xaxis\": \"x\", \"y\": [0.6076265972797393, 0.6747436656444853, 0.7757387974388823, 0.8136126944426475, 0.7114983417145743, 0.5735201649311427, 0.478127388592139, 0.4869164016677804, 0.38756719218442215, 0.2614237391101221, 0.37819387553729766, 0.29216065466737356, 0.2872068245168319, 0.2722659528106747, 0.2878660104185455, 0.28814241732531193, 0.3055654989539388, 0.3013789354819275], \"yaxis\": \"y\"}],                        {\"barmode\": \"relative\", \"legend\": {\"tracegroupgap\": 0}, \"margin\": {\"t\": 60}, \"template\": {\"data\": {\"bar\": [{\"error_x\": {\"color\": \"#2a3f5f\"}, \"error_y\": {\"color\": \"#2a3f5f\"}, \"marker\": {\"line\": {\"color\": \"#E5ECF6\", \"width\": 0.5}}, \"type\": \"bar\"}], \"barpolar\": [{\"marker\": {\"line\": {\"color\": \"#E5ECF6\", \"width\": 0.5}}, \"type\": \"barpolar\"}], \"carpet\": [{\"aaxis\": {\"endlinecolor\": \"#2a3f5f\", \"gridcolor\": \"white\", \"linecolor\": \"white\", \"minorgridcolor\": \"white\", \"startlinecolor\": \"#2a3f5f\"}, \"baxis\": {\"endlinecolor\": \"#2a3f5f\", \"gridcolor\": \"white\", \"linecolor\": \"white\", \"minorgridcolor\": \"white\", \"startlinecolor\": \"#2a3f5f\"}, \"type\": \"carpet\"}], \"choropleth\": [{\"colorbar\": {\"outlinewidth\": 0, \"ticks\": \"\"}, \"type\": \"choropleth\"}], \"contour\": [{\"colorbar\": {\"outlinewidth\": 0, \"ticks\": \"\"}, \"colorscale\": [[0.0, \"#0d0887\"], [0.1111111111111111, \"#46039f\"], [0.2222222222222222, \"#7201a8\"], [0.3333333333333333, \"#9c179e\"], [0.4444444444444444, \"#bd3786\"], [0.5555555555555556, \"#d8576b\"], [0.6666666666666666, \"#ed7953\"], [0.7777777777777778, \"#fb9f3a\"], [0.8888888888888888, \"#fdca26\"], [1.0, \"#f0f921\"]], \"type\": \"contour\"}], \"contourcarpet\": [{\"colorbar\": {\"outlinewidth\": 0, \"ticks\": \"\"}, \"type\": \"contourcarpet\"}], \"heatmap\": [{\"colorbar\": {\"outlinewidth\": 0, \"ticks\": \"\"}, \"colorscale\": [[0.0, \"#0d0887\"], [0.1111111111111111, \"#46039f\"], [0.2222222222222222, \"#7201a8\"], [0.3333333333333333, \"#9c179e\"], [0.4444444444444444, \"#bd3786\"], [0.5555555555555556, \"#d8576b\"], [0.6666666666666666, \"#ed7953\"], [0.7777777777777778, \"#fb9f3a\"], [0.8888888888888888, \"#fdca26\"], [1.0, \"#f0f921\"]], \"type\": \"heatmap\"}], \"heatmapgl\": [{\"colorbar\": {\"outlinewidth\": 0, \"ticks\": \"\"}, \"colorscale\": [[0.0, \"#0d0887\"], [0.1111111111111111, \"#46039f\"], [0.2222222222222222, \"#7201a8\"], [0.3333333333333333, \"#9c179e\"], [0.4444444444444444, \"#bd3786\"], [0.5555555555555556, \"#d8576b\"], [0.6666666666666666, \"#ed7953\"], [0.7777777777777778, \"#fb9f3a\"], [0.8888888888888888, \"#fdca26\"], [1.0, \"#f0f921\"]], \"type\": \"heatmapgl\"}], \"histogram\": [{\"marker\": {\"colorbar\": {\"outlinewidth\": 0, \"ticks\": \"\"}}, \"type\": \"histogram\"}], \"histogram2d\": [{\"colorbar\": {\"outlinewidth\": 0, \"ticks\": \"\"}, \"colorscale\": [[0.0, \"#0d0887\"], [0.1111111111111111, \"#46039f\"], [0.2222222222222222, \"#7201a8\"], [0.3333333333333333, \"#9c179e\"], [0.4444444444444444, \"#bd3786\"], [0.5555555555555556, \"#d8576b\"], [0.6666666666666666, \"#ed7953\"], [0.7777777777777778, \"#fb9f3a\"], [0.8888888888888888, \"#fdca26\"], [1.0, \"#f0f921\"]], \"type\": \"histogram2d\"}], \"histogram2dcontour\": [{\"colorbar\": {\"outlinewidth\": 0, \"ticks\": \"\"}, \"colorscale\": [[0.0, \"#0d0887\"], [0.1111111111111111, \"#46039f\"], [0.2222222222222222, \"#7201a8\"], [0.3333333333333333, \"#9c179e\"], [0.4444444444444444, \"#bd3786\"], [0.5555555555555556, \"#d8576b\"], [0.6666666666666666, \"#ed7953\"], [0.7777777777777778, \"#fb9f3a\"], [0.8888888888888888, \"#fdca26\"], [1.0, \"#f0f921\"]], \"type\": \"histogram2dcontour\"}], \"mesh3d\": [{\"colorbar\": {\"outlinewidth\": 0, \"ticks\": \"\"}, \"type\": \"mesh3d\"}], \"parcoords\": [{\"line\": {\"colorbar\": {\"outlinewidth\": 0, \"ticks\": \"\"}}, \"type\": \"parcoords\"}], \"pie\": [{\"automargin\": true, \"type\": \"pie\"}], \"scatter\": [{\"marker\": {\"colorbar\": {\"outlinewidth\": 0, \"ticks\": \"\"}}, \"type\": \"scatter\"}], \"scatter3d\": [{\"line\": {\"colorbar\": {\"outlinewidth\": 0, \"ticks\": \"\"}}, \"marker\": {\"colorbar\": {\"outlinewidth\": 0, \"ticks\": \"\"}}, \"type\": \"scatter3d\"}], \"scattercarpet\": [{\"marker\": {\"colorbar\": {\"outlinewidth\": 0, \"ticks\": \"\"}}, \"type\": \"scattercarpet\"}], \"scattergeo\": [{\"marker\": {\"colorbar\": {\"outlinewidth\": 0, \"ticks\": \"\"}}, \"type\": \"scattergeo\"}], \"scattergl\": [{\"marker\": {\"colorbar\": {\"outlinewidth\": 0, \"ticks\": \"\"}}, \"type\": \"scattergl\"}], \"scattermapbox\": [{\"marker\": {\"colorbar\": {\"outlinewidth\": 0, \"ticks\": \"\"}}, \"type\": \"scattermapbox\"}], \"scatterpolar\": [{\"marker\": {\"colorbar\": {\"outlinewidth\": 0, \"ticks\": \"\"}}, \"type\": \"scatterpolar\"}], \"scatterpolargl\": [{\"marker\": {\"colorbar\": {\"outlinewidth\": 0, \"ticks\": \"\"}}, \"type\": \"scatterpolargl\"}], \"scatterternary\": [{\"marker\": {\"colorbar\": {\"outlinewidth\": 0, \"ticks\": \"\"}}, \"type\": \"scatterternary\"}], \"surface\": [{\"colorbar\": {\"outlinewidth\": 0, \"ticks\": \"\"}, \"colorscale\": [[0.0, \"#0d0887\"], [0.1111111111111111, \"#46039f\"], [0.2222222222222222, \"#7201a8\"], [0.3333333333333333, \"#9c179e\"], [0.4444444444444444, \"#bd3786\"], [0.5555555555555556, \"#d8576b\"], [0.6666666666666666, \"#ed7953\"], [0.7777777777777778, \"#fb9f3a\"], [0.8888888888888888, \"#fdca26\"], [1.0, \"#f0f921\"]], \"type\": \"surface\"}], \"table\": [{\"cells\": {\"fill\": {\"color\": \"#EBF0F8\"}, \"line\": {\"color\": \"white\"}}, \"header\": {\"fill\": {\"color\": \"#C8D4E3\"}, \"line\": {\"color\": \"white\"}}, \"type\": \"table\"}]}, \"layout\": {\"annotationdefaults\": {\"arrowcolor\": \"#2a3f5f\", \"arrowhead\": 0, \"arrowwidth\": 1}, \"coloraxis\": {\"colorbar\": {\"outlinewidth\": 0, \"ticks\": \"\"}}, \"colorscale\": {\"diverging\": [[0, \"#8e0152\"], [0.1, \"#c51b7d\"], [0.2, \"#de77ae\"], [0.3, \"#f1b6da\"], [0.4, \"#fde0ef\"], [0.5, \"#f7f7f7\"], [0.6, \"#e6f5d0\"], [0.7, \"#b8e186\"], [0.8, \"#7fbc41\"], [0.9, \"#4d9221\"], [1, \"#276419\"]], \"sequential\": [[0.0, \"#0d0887\"], [0.1111111111111111, \"#46039f\"], [0.2222222222222222, \"#7201a8\"], [0.3333333333333333, \"#9c179e\"], [0.4444444444444444, \"#bd3786\"], [0.5555555555555556, \"#d8576b\"], [0.6666666666666666, \"#ed7953\"], [0.7777777777777778, \"#fb9f3a\"], [0.8888888888888888, \"#fdca26\"], [1.0, \"#f0f921\"]], \"sequentialminus\": [[0.0, \"#0d0887\"], [0.1111111111111111, \"#46039f\"], [0.2222222222222222, \"#7201a8\"], [0.3333333333333333, \"#9c179e\"], [0.4444444444444444, \"#bd3786\"], [0.5555555555555556, \"#d8576b\"], [0.6666666666666666, \"#ed7953\"], [0.7777777777777778, \"#fb9f3a\"], [0.8888888888888888, \"#fdca26\"], [1.0, \"#f0f921\"]]}, \"colorway\": [\"#636efa\", \"#EF553B\", \"#00cc96\", \"#ab63fa\", \"#FFA15A\", \"#19d3f3\", \"#FF6692\", \"#B6E880\", \"#FF97FF\", \"#FECB52\"], \"font\": {\"color\": \"#2a3f5f\"}, \"geo\": {\"bgcolor\": \"white\", \"lakecolor\": \"white\", \"landcolor\": \"#E5ECF6\", \"showlakes\": true, \"showland\": true, \"subunitcolor\": \"white\"}, \"hoverlabel\": {\"align\": \"left\"}, \"hovermode\": \"closest\", \"mapbox\": {\"style\": \"light\"}, \"paper_bgcolor\": \"white\", \"plot_bgcolor\": \"#E5ECF6\", \"polar\": {\"angularaxis\": {\"gridcolor\": \"white\", \"linecolor\": \"white\", \"ticks\": \"\"}, \"bgcolor\": \"#E5ECF6\", \"radialaxis\": {\"gridcolor\": \"white\", \"linecolor\": \"white\", \"ticks\": \"\"}}, \"scene\": {\"xaxis\": {\"backgroundcolor\": \"#E5ECF6\", \"gridcolor\": \"white\", \"gridwidth\": 2, \"linecolor\": \"white\", \"showbackground\": true, \"ticks\": \"\", \"zerolinecolor\": \"white\"}, \"yaxis\": {\"backgroundcolor\": \"#E5ECF6\", \"gridcolor\": \"white\", \"gridwidth\": 2, \"linecolor\": \"white\", \"showbackground\": true, \"ticks\": \"\", \"zerolinecolor\": \"white\"}, \"zaxis\": {\"backgroundcolor\": \"#E5ECF6\", \"gridcolor\": \"white\", \"gridwidth\": 2, \"linecolor\": \"white\", \"showbackground\": true, \"ticks\": \"\", \"zerolinecolor\": \"white\"}}, \"shapedefaults\": {\"line\": {\"color\": \"#2a3f5f\"}}, \"ternary\": {\"aaxis\": {\"gridcolor\": \"white\", \"linecolor\": \"white\", \"ticks\": \"\"}, \"baxis\": {\"gridcolor\": \"white\", \"linecolor\": \"white\", \"ticks\": \"\"}, \"bgcolor\": \"#E5ECF6\", \"caxis\": {\"gridcolor\": \"white\", \"linecolor\": \"white\", \"ticks\": \"\"}}, \"title\": {\"x\": 0.05}, \"xaxis\": {\"automargin\": true, \"gridcolor\": \"white\", \"linecolor\": \"white\", \"ticks\": \"\", \"title\": {\"standoff\": 15}, \"zerolinecolor\": \"white\", \"zerolinewidth\": 2}, \"yaxis\": {\"automargin\": true, \"gridcolor\": \"white\", \"linecolor\": \"white\", \"ticks\": \"\", \"title\": {\"standoff\": 15}, \"zerolinecolor\": \"white\", \"zerolinewidth\": 2}}}, \"xaxis\": {\"anchor\": \"y\", \"domain\": [0.0, 1.0], \"tickvals\": [2, 3, 4, 5, 6, 7, 8, 9, 10, 11, 12, 13, 14, 15, 16, 17, 18, 19], \"title\": {\"text\": \"Number of clusters\"}}, \"yaxis\": {\"anchor\": \"x\", \"domain\": [0.0, 1.0], \"title\": {\"text\": \"silhouette score\"}}},                        {\"responsive\": true}                    ).then(function(){\n",
       "                            \n",
       "var gd = document.getElementById('7df28883-5615-4399-bf70-37559c7913a0');\n",
       "var x = new MutationObserver(function (mutations, observer) {{\n",
       "        var display = window.getComputedStyle(gd).display;\n",
       "        if (!display || display === 'none') {{\n",
       "            console.log([gd, 'removed!']);\n",
       "            Plotly.purge(gd);\n",
       "            observer.disconnect();\n",
       "        }}\n",
       "}});\n",
       "\n",
       "// Listen for the removal of the full notebook cells\n",
       "var notebookContainer = gd.closest('#notebook-container');\n",
       "if (notebookContainer) {{\n",
       "    x.observe(notebookContainer, {childList: true});\n",
       "}}\n",
       "\n",
       "// Listen for the clearing of the current output cell\n",
       "var outputEl = gd.closest('.output');\n",
       "if (outputEl) {{\n",
       "    x.observe(outputEl, {childList: true});\n",
       "}}\n",
       "\n",
       "                        })                };                });            </script>        </div>"
      ]
     },
     "metadata": {},
     "output_type": "display_data"
    }
   ],
   "source": [
    "fig = px.bar(x=list(range(2,20)), y=silhouette, text=[round(vl,2) for vl in silhouette],\n",
    "            labels = dict(x='Number of clusters', y='silhouette score'))\n",
    "fig.update_traces(textposition='outside'\n",
    "                  ,marker = dict(color = bar_clrs)\n",
    "                 )\n",
    "fig.update_layout(\n",
    "    xaxis = dict(tickvals = list(range(2,20))))\n",
    "fig.show()"
   ]
  },
  {
   "cell_type": "markdown",
   "id": "blank-albania",
   "metadata": {},
   "source": [
    "### Disadvantages"
   ]
  },
  {
   "cell_type": "markdown",
   "id": "classical-hungary",
   "metadata": {},
   "source": [
    "1.\tbad clustering or slow convergence If the initial centroids are chosen poorly"
   ]
  },
  {
   "cell_type": "markdown",
   "id": "canadian-conviction",
   "metadata": {},
   "source": [
    "### Alternate method"
   ]
  },
  {
   "cell_type": "markdown",
   "id": "intermediate-experience",
   "metadata": {},
   "source": [
    "K-means++"
   ]
  }
 ],
 "metadata": {
  "kernelspec": {
   "display_name": "Python 3",
   "language": "python",
   "name": "python3"
  },
  "language_info": {
   "codemirror_mode": {
    "name": "ipython",
    "version": 3
   },
   "file_extension": ".py",
   "mimetype": "text/x-python",
   "name": "python",
   "nbconvert_exporter": "python",
   "pygments_lexer": "ipython3",
   "version": "3.7.9"
  },
  "toc": {
   "base_numbering": 1,
   "nav_menu": {},
   "number_sections": true,
   "sideBar": true,
   "skip_h1_title": false,
   "title_cell": "Table of Contents",
   "title_sidebar": "Contents",
   "toc_cell": false,
   "toc_position": {
    "height": "calc(100% - 180px)",
    "left": "10px",
    "top": "150px",
    "width": "240px"
   },
   "toc_section_display": true,
   "toc_window_display": true
  }
 },
 "nbformat": 4,
 "nbformat_minor": 5
}
