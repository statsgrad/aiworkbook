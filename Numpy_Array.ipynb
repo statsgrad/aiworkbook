{
 "cells": [
  {
   "cell_type": "markdown",
   "metadata": {},
   "source": [
    "NumPy : \n",
    "    Numeric Python\n",
    "    Alternative to Python lists : Numpy Array\n",
    "    Calculation over entire Arrays\n",
    "    Easy  & Fast\n",
    "    Installation\n",
    "\n",
    "In the terminal Pip3 Install Numpy"
   ]
  },
  {
   "cell_type": "code",
   "execution_count": 1,
   "metadata": {},
   "outputs": [],
   "source": [
    "import numpy as np"
   ]
  },
  {
   "cell_type": "markdown",
   "metadata": {},
   "source": [
    "#### initializing a numpy array"
   ]
  },
  {
   "cell_type": "markdown",
   "metadata": {},
   "source": [
    "###### intializing a 1D numpy array"
   ]
  },
  {
   "cell_type": "code",
   "execution_count": 3,
   "metadata": {},
   "outputs": [],
   "source": [
    "onedim_ary = np.array([1,2,3], ndmin=2) "
   ]
  },
  {
   "cell_type": "code",
   "execution_count": 4,
   "metadata": {
    "scrolled": true
   },
   "outputs": [
    {
     "data": {
      "text/plain": [
       "array([[1, 2, 3]])"
      ]
     },
     "execution_count": 4,
     "metadata": {},
     "output_type": "execute_result"
    }
   ],
   "source": [
    "onedim_ary"
   ]
  },
  {
   "cell_type": "code",
   "execution_count": null,
   "metadata": {},
   "outputs": [],
   "source": []
  },
  {
   "cell_type": "code",
   "execution_count": 247,
   "metadata": {},
   "outputs": [
    {
     "name": "stdout",
     "output_type": "stream",
     "text": [
      "Dimension of array::: 1\n",
      "Shape of array (dimension, rows, columns)::: (3,)\n",
      "number of elements in array::: 3\n",
      "datatype of the array::: <class 'numpy.ndarray'>\n",
      "datatype of values inside array::: int32\n",
      "datatype of values inside array::: int32\n"
     ]
    }
   ],
   "source": [
    "# initializing with list\n",
    "    onedim_ary = np.array([1,2,3]) \n",
    "# print(onedim_ary)\n",
    "\n",
    "# number of dimension (D) of an array. Is it 1D, 2D, 3D and nD?\n",
    "    print(\"Dimension of array:::\", onedim_ary.ndim)\n",
    "# shape of an array, output:tuple(dimension, rows, columns)\n",
    "    print(\"Shape of array (dimension, rows, columns):::\", onedim_ary.shape)\n",
    "# number of elements in an array\n",
    "    print(\"number of elements in array:::\", onedim_ary.size) \n",
    "# datatype of the array\n",
    "    print(\"datatype of the array:::\", type(onedim_ary)) \n",
    "# datatype of the values inside an array\n",
    "    print(\"datatype of values inside array:::\", onedim_ary.dtype) \n",
    "    print(\"datatype of values inside array:::\", onedim_ary.dtype.name) "
   ]
  },
  {
   "cell_type": "markdown",
   "metadata": {},
   "source": [
    "##### multiple ways to initialize a numpy array"
   ]
  },
  {
   "cell_type": "code",
   "execution_count": null,
   "metadata": {},
   "outputs": [],
   "source": [
    "# initialize a 2D numpy array\n",
    "    twodim_array = np.array([[2,3,4],[5,6,7]])\n",
    "    print(\"Shape of array (dimension, rows, columns):::\", init_list_array.shape)\n",
    "\n",
    "# initialize a numpy array with value zero\n",
    "    zero_val_array = np.zeros((2,2,3))\n",
    "    print(\"zero value array::: \\n\", zero_val_array)\n",
    "    print(\"shape of zero value array:::\", zero_val_array.shape)\n",
    "\n",
    "# initialize a numpy array with value one\n",
    "    one_val_array = np.ones((2,3,3), dtype=np.int32)\n",
    "    print(\"one value array::: \\n\", one_val_array)\n",
    "    print(\"shape of one value array:::\", one_val_array.shape)\n",
    "\n",
    "# initialize a numpy array with required value\n",
    "    rqd_val_array = np.full((2,3,3), 10)\n",
    "    print(\"rqd value array::: \\n\", rqd_val_array)\n",
    "    print(\"shape of rqd value array:::\", rqd_val_array.shape)\n",
    "\n",
    "# initialize a numpy array with value one\n",
    "# rnd1_val_array = np.empty((2,3,3))\n",
    "# print(\"rnd value array::: \\n\", rnd_val_array)\n",
    "# print(\"shape of rnd value array:::\", rnd_val_array.shape)\n",
    "\n",
    "# initialize a numpy array with odd number\n",
    "# can generate any sequence of nbrs like \"even numbers\" or \"steps of 5\" like 5, 10, 15...\n",
    "    odd_nbr_ary = np.arange(1,100,2).reshape(2,25)\n",
    "    print(\"odd number ary::: \\n\", odd_nbr_ary)\n",
    "    print(\"shape of odd number array:::\", odd_nbr_ary.shape)\n",
    "\n",
    "# initialize a numpy array with floating point value for percentiles\n",
    "    percentiles_ary = np.linspace(0.1,1,10)\n",
    "    print(\"percentiles ary::: \\n\", percentiles_ary)\n",
    "    print(\"shape of percentiles ary:::\", percentiles_ary.shape)"
   ]
  },
  {
   "cell_type": "markdown",
   "metadata": {},
   "source": [
    "#### distinct values from an array"
   ]
  },
  {
   "cell_type": "code",
   "execution_count": null,
   "metadata": {},
   "outputs": [],
   "source": [
    "ary = np.array([[1,2,3,4,5],[3,4,5,6,7]])\n",
    "print(ary)\n",
    "st = np.unique(ary)\n",
    "print(ary, st)"
   ]
  },
  {
   "cell_type": "markdown",
   "metadata": {},
   "source": [
    "#### Flatten"
   ]
  },
  {
   "cell_type": "code",
   "execution_count": null,
   "metadata": {},
   "outputs": [],
   "source": [
    "mul_dim_array.flatten()\n",
    "print(mul_dim_array)\n",
    "np.m"
   ]
  },
  {
   "cell_type": "markdown",
   "metadata": {},
   "source": [
    "#### Delete"
   ]
  },
  {
   "cell_type": "code",
   "execution_count": null,
   "metadata": {},
   "outputs": [],
   "source": [
    "mul_dim_array = np.array(np.arange(1,21)).reshape(4,5)\n",
    "print(mul_dim_array)\n",
    "mul_dim_array1 = mul_dim_array.copy()\n",
    "# second argument in the delete function it position of the row or column, 3rd argument is axis (row delete or column delete)\n",
    "np.delete(mul_dim_array1, 3, 0)"
   ]
  },
  {
   "cell_type": "markdown",
   "metadata": {},
   "source": [
    "#### Insert"
   ]
  },
  {
   "cell_type": "markdown",
   "metadata": {},
   "source": [
    "##### modify at multiple index using list"
   ]
  },
  {
   "cell_type": "code",
   "execution_count": null,
   "metadata": {},
   "outputs": [],
   "source": [
    "mul_dim_array = np.array(np.arange(1,21)).reshape(4,5)\n",
    "print(mul_dim_array)\n",
    "np.put(mul_dim_array, [0,1,5,15], -5)\n",
    "print(mul_dim_array)\n",
    "mul_dim_array[0][0] = 10\n",
    "print(mul_dim_array)"
   ]
  },
  {
   "cell_type": "markdown",
   "metadata": {},
   "source": [
    "##### modify at multiple index using array"
   ]
  },
  {
   "cell_type": "code",
   "execution_count": null,
   "metadata": {},
   "outputs": [],
   "source": [
    "mul_dim_array = np.array(np.arange(1,11)).reshape(2,5)\n",
    "print(mul_dim_array)\n",
    "x = np.array([1,2,0,1]).reshape(2,2)\n",
    "np.put_along_axis(mul_dim_array, x, 99, axis=1)\n",
    "print(mul_dim_array)"
   ]
  },
  {
   "cell_type": "markdown",
   "metadata": {},
   "source": [
    "##### modify based on condition"
   ]
  },
  {
   "cell_type": "code",
   "execution_count": null,
   "metadata": {},
   "outputs": [],
   "source": [
    "arr = np.arange(6).reshape(2, 3)\n",
    "print(arr)\n",
    "np.place(arr, arr>2, 55)\n",
    "arr"
   ]
  },
  {
   "cell_type": "markdown",
   "metadata": {},
   "source": [
    "#### Arithmetic operations"
   ]
  },
  {
   "cell_type": "code",
   "execution_count": 6,
   "metadata": {},
   "outputs": [],
   "source": [
    "num_array = np.array(np.arange(2,12))\n",
    "num_array1 = np.array(np.arange(2,12))"
   ]
  },
  {
   "cell_type": "code",
   "execution_count": 7,
   "metadata": {},
   "outputs": [
    {
     "data": {
      "text/plain": [
       "array([ 4,  6,  8, 10, 12, 14, 16, 18, 20, 22])"
      ]
     },
     "execution_count": 7,
     "metadata": {},
     "output_type": "execute_result"
    }
   ],
   "source": [
    "num_array + num_array1"
   ]
  },
  {
   "cell_type": "code",
   "execution_count": null,
   "metadata": {},
   "outputs": [],
   "source": [
    "num_array = np.array(np.arange(2,12))\n",
    "print(\"\\n Base array\\t:::\", num_array)\n",
    "print(\"\\n Exponentiation\\t ** 2\\t:::\", num_array ** 2)\n",
    "print(\"\\n Division\\t /2 \\t:::\", num_array / 2)\n",
    "print(\"\\n Multiplication\\t *2 \\t:::\", num_array * 2)\n",
    "print(\"\\n Addition\\t +2 \\t:::\", num_array + 2)\n",
    "print(\"\\n Subtraction\\t -2 \\t:::\", num_array - 2)"
   ]
  },
  {
   "cell_type": "markdown",
   "metadata": {},
   "source": [
    "####  Logical operations"
   ]
  },
  {
   "cell_type": "code",
   "execution_count": null,
   "metadata": {},
   "outputs": [],
   "source": [
    "num_array = np.array(np.arange(1,21).reshape(2,2,5))\n",
    "multiply_index = num_array > 6\n",
    "print(multiply_index)\n",
    "num_array[multiply_index] *= 0\n",
    "print(num_array)"
   ]
  },
  {
   "cell_type": "markdown",
   "metadata": {},
   "source": [
    "#### Transpose "
   ]
  },
  {
   "cell_type": "code",
   "execution_count": null,
   "metadata": {},
   "outputs": [],
   "source": [
    "print(\"\\n Original array:::\", twodim_array)\n",
    "twodim_array_tp = np.transpose(twodim_array)\n",
    "print(\"\\n Original array:::\", twodim_array_tp)"
   ]
  },
  {
   "cell_type": "markdown",
   "metadata": {},
   "source": [
    "#### Appending - Concatenating axis must be same"
   ]
  },
  {
   "cell_type": "markdown",
   "metadata": {},
   "source": [
    "##### Append function"
   ]
  },
  {
   "cell_type": "code",
   "execution_count": null,
   "metadata": {},
   "outputs": [],
   "source": [
    "ary1 = np.arange(1,21).reshape(2,2,5)\n",
    "ary2 = np.arange(21,41).reshape(2,2,5)\n",
    "print(ary1, \"\\n\", ary2)\n",
    "np.append(ary1, ary2, axis=2)"
   ]
  },
  {
   "cell_type": "code",
   "execution_count": 1,
   "metadata": {},
   "outputs": [
    {
     "ename": "NameError",
     "evalue": "name 'np' is not defined",
     "output_type": "error",
     "traceback": [
      "\u001b[1;31m---------------------------------------------------------------------------\u001b[0m",
      "\u001b[1;31mNameError\u001b[0m                                 Traceback (most recent call last)",
      "\u001b[1;32m<ipython-input-1-949564f7ac03>\u001b[0m in \u001b[0;36m<module>\u001b[1;34m\u001b[0m\n\u001b[1;32m----> 1\u001b[1;33m \u001b[0mary2\u001b[0m \u001b[1;33m=\u001b[0m \u001b[0mnp\u001b[0m\u001b[1;33m.\u001b[0m\u001b[0marange\u001b[0m\u001b[1;33m(\u001b[0m\u001b[1;36m21\u001b[0m\u001b[1;33m,\u001b[0m\u001b[1;36m41\u001b[0m\u001b[1;33m)\u001b[0m\u001b[1;33m.\u001b[0m\u001b[0mreshape\u001b[0m\u001b[1;33m(\u001b[0m\u001b[1;36m2\u001b[0m\u001b[1;33m,\u001b[0m\u001b[1;36m2\u001b[0m\u001b[1;33m,\u001b[0m\u001b[1;36m5\u001b[0m\u001b[1;33m)\u001b[0m\u001b[1;33m\u001b[0m\u001b[0m\n\u001b[0m",
      "\u001b[1;31mNameError\u001b[0m: name 'np' is not defined"
     ]
    }
   ],
   "source": [
    "ary2 = np.arange(21,41).reshape(2,2,5)"
   ]
  },
  {
   "cell_type": "markdown",
   "metadata": {},
   "source": [
    "##### vstack - dimension (1D, 2D, 3D) and column must be same, rows not necessary"
   ]
  },
  {
   "cell_type": "code",
   "execution_count": null,
   "metadata": {},
   "outputs": [],
   "source": [
    "mul_5 = np.arange(5,55,5).reshape(2,5)\n",
    "mul_2 = np.arange(2,41,2).reshape(4,5)\n",
    "vstac = np.vstack((mul_5, mul_2))\n",
    "print(\"\\n vertical stacked arrays \\n:::\", vstac)"
   ]
  },
  {
   "cell_type": "markdown",
   "metadata": {},
   "source": [
    "##### hstack - dimension (1D, 2D, 3D) and rows must be same, columns not necessary"
   ]
  },
  {
   "cell_type": "code",
   "execution_count": null,
   "metadata": {},
   "outputs": [],
   "source": [
    "mul_5 = np.arange(5,55,5).reshape(2,5)\n",
    "mul_2 = np.arange(2,21,2).reshape(2,5)\n",
    "hstac = np.hstack((mul_5, mul_2))\n",
    "print(\"\\n vertical stacked arrays \\n:::\", hstac)"
   ]
  },
  {
   "cell_type": "markdown",
   "metadata": {},
   "source": [
    "#### Split"
   ]
  },
  {
   "cell_type": "markdown",
   "metadata": {},
   "source": [
    "##### vsplit - \n",
    "    to split into N number of arrays, the array axes should have N * y elements (N * y rows)\n",
    "    first argument is number of columns, second argument is number of array"
   ]
  },
  {
   "cell_type": "code",
   "execution_count": null,
   "metadata": {},
   "outputs": [],
   "source": [
    "mul_5 = np.arange(5,55,5).reshape(5,2)\n",
    "a, b, c = np.vsplit(mul_5, [2,4])\n",
    "print(a, \"\\n\\n\", b, \"\\n\\n\", c)"
   ]
  },
  {
   "cell_type": "markdown",
   "metadata": {},
   "source": [
    "##### hsplit - \n",
    "    to split into N number of arrays, the array axes should have N * y elements (N * y cols)\n",
    "    first argument is number of columns, second argument is number of array"
   ]
  },
  {
   "cell_type": "code",
   "execution_count": null,
   "metadata": {},
   "outputs": [],
   "source": [
    "mul_5 = np.arange(5,55,5).reshape(2,5)\n",
    "a, b, c = np.hsplit(mul_5, [2,4])\n",
    "print(a, \"\\n\\n\", b, \"\\n\\n\", c)"
   ]
  },
  {
   "cell_type": "markdown",
   "metadata": {},
   "source": [
    "#### stat functions"
   ]
  },
  {
   "cell_type": "markdown",
   "metadata": {},
   "source": [
    "##### amin, amax, argmin, argmax"
   ]
  },
  {
   "cell_type": "code",
   "execution_count": null,
   "metadata": {},
   "outputs": [],
   "source": [
    "    a = np.arange(5,155,5).reshape(2,3,5)\n",
    "    a = np.vstack((a, np.arange(1,16).reshape(1,3,5)))\n",
    "    print(a)\n",
    "    print(\"shape of array:::\", a.shape)\n",
    "# axis = 0 gives the dimension that is a minimum of sum of all the values in a given dimension\n",
    "    print(\"min val of entire array:::\", np.amin(a, axis = 0))\n",
    "    print(\"min val of column:::\", np.amin(a, axis = 1))\n",
    "    print(\"min val of row:::\", np.amin(a, axis = 2))\n",
    "# amax, nanmin, nanmax"
   ]
  },
  {
   "cell_type": "code",
   "execution_count": null,
   "metadata": {},
   "outputs": [],
   "source": [
    "a = np.arange(5,155,5).reshape(3,10)\n",
    "a[1][5] = 750\n",
    "print(a)\n",
    "min_ind = np.argmin(a, axis = 0)\n",
    "print(min_ind)\n",
    "max_ind = np.argmax(a, axis = 0)\n",
    "print(max_ind)\n",
    "a[max_ind][:]"
   ]
  },
  {
   "cell_type": "markdown",
   "metadata": {},
   "source": [
    "##### ptp (Range: max - min)"
   ]
  },
  {
   "cell_type": "code",
   "execution_count": null,
   "metadata": {},
   "outputs": [],
   "source": [
    "# range of values (maximum - minimum)\n",
    "    print(\"Range of entire array:::\", np.ptp(a, axis = 0))\n",
    "    print(\"Range of column:::\", np.ptp(a, axis = 1))\n",
    "    print(\"Range of row:::\", np.ptp(a, axis = 2))  "
   ]
  },
  {
   "cell_type": "markdown",
   "metadata": {},
   "source": [
    "##### percentile"
   ]
  },
  {
   "cell_type": "code",
   "execution_count": 86,
   "metadata": {},
   "outputs": [],
   "source": [
    "?np.percentile"
   ]
  },
  {
   "cell_type": "code",
   "execution_count": null,
   "metadata": {},
   "outputs": [],
   "source": [
    "# percentiles of the given array\n",
    "ary_stat = np.vstack((np.arange(1,16). reshape(1,3,5), \n",
    "                         np.arange(251,266). reshape(1,3,5), \n",
    "                         np.arange(751,766). reshape(1,3,5),\n",
    "                         np.arange(991,1006). reshape(1,3,5)))\n",
    "print(ary_stat)\n",
    "print(\"\\npercentile value of entire array:::\\n\", np.percentile(ary_stat, 25, axis=0))\n",
    "print(\"\\npercentile value of columns:::\\n\", np.percentile(ary_stat, 60, axis=1))"
   ]
  },
  {
   "cell_type": "code",
   "execution_count": 115,
   "metadata": {},
   "outputs": [
    {
     "name": "stdout",
     "output_type": "stream",
     "text": [
      "[[100 101 102 103 104 105 106 107 108 109 110 111 112 113 114 115 116 117\n",
      "  118 119 120 121 122 123 124]\n",
      " [125 126 127 128 129 130 131 132 133 134 135 136 137 138 139 140 141 142\n",
      "  143 144 145 146 147 148 149]]\n",
      "(2, 25)\n",
      "[[109.6]\n",
      " [134.6]]\n",
      "[[109]\n",
      " [134]]\n",
      "[[110]\n",
      " [135]]\n",
      "[[110]\n",
      " [135]]\n",
      "[[109.5]\n",
      " [134.5]]\n"
     ]
    }
   ],
   "source": [
    "ary_stat = np.arange(100,150). reshape(2,25)\n",
    "print(ary_stat)\n",
    "print(ary_stat.shape)\n",
    "print( np.percentile(ary_stat, 40, axis=1, interpolation = 'linear', keepdims=True))\n",
    "print( np.percentile(ary_stat, 40, axis=1, interpolation = 'lower', keepdims=True))\n",
    "print( np.percentile(ary_stat, 40, axis=1, interpolation = 'higher', keepdims=True))\n",
    "print( np.percentile(ary_stat, 40, axis=1, interpolation = 'nearest', keepdims=True))\n",
    "print( np.percentile(ary_stat, 40, axis=1, interpolation = 'midpoint', keepdims=True))"
   ]
  },
  {
   "cell_type": "markdown",
   "metadata": {},
   "source": [
    "#####  Measures of CENTRAL TENDENCY"
   ]
  },
  {
   "cell_type": "markdown",
   "metadata": {},
   "source": [
    "##### Mean"
   ]
  },
  {
   "cell_type": "code",
   "execution_count": null,
   "metadata": {},
   "outputs": [],
   "source": [
    "# Mean of the given array\n",
    "print(ary_stat)\n",
    "print(\"\\n Mean of entire array:::\\n\", np.mean(ary_stat, axis=0))\n",
    "print(\"\\n Mean of each column:::\\n\", np.mean(ary_stat, axis=1))\n",
    "print(\"\\n Mean of each row:::\\n\", np.mean(ary_stat, axis=2))\n",
    "# weighted average\n",
    "print(\"\\n Mean of each row:::\\n\", np.average(ary_stat, axis=2, weights=[5, 3, 4, 2, 1]))"
   ]
  },
  {
   "cell_type": "markdown",
   "metadata": {},
   "source": [
    "##### Median"
   ]
  },
  {
   "cell_type": "code",
   "execution_count": null,
   "metadata": {},
   "outputs": [],
   "source": [
    "print(ary_stat)\n",
    "print(\"\\n Median of entire array:::\\n\", np.median(ary_stat, axis=0))\n",
    "print(\"\\n Median of each column:::\\n\", np.median(ary_stat, axis=1))\n",
    "print(\"\\n Median of each row:::\\n\", np.median(ary_stat, axis=2))"
   ]
  },
  {
   "cell_type": "markdown",
   "metadata": {},
   "source": [
    "#### Dispersion"
   ]
  },
  {
   "cell_type": "markdown",
   "metadata": {},
   "source": [
    "##### Standard Deviation"
   ]
  },
  {
   "cell_type": "code",
   "execution_count": null,
   "metadata": {},
   "outputs": [],
   "source": [
    "print(ary_stat)\n",
    "print(\"\\n Std Dev of entire array:::\\n\", np.std(ary_stat, axis=0))\n",
    "print(\"\\n Std Dev of each column:::\\n\", np.std(ary_stat, axis=1))\n",
    "print(\"\\n Std Dev of each row:::\\n\", np.std(ary_stat, axis=2))"
   ]
  },
  {
   "cell_type": "markdown",
   "metadata": {},
   "source": [
    "##### Variance"
   ]
  },
  {
   "cell_type": "code",
   "execution_count": null,
   "metadata": {},
   "outputs": [],
   "source": [
    "print(ary_stat)\n",
    "print(\"\\n Variance of entire array:::\\n\", np.var(ary_stat, axis=0))\n",
    "print(\"\\n Variance of each column:::\\n\", np.var(ary_stat, axis=1))\n",
    "print(\"\\n Variance of each row:::\\n\", np.var(ary_stat, axis=2))"
   ]
  },
  {
   "cell_type": "markdown",
   "metadata": {},
   "source": [
    "#### Sampling\n",
    "    sample is typically a small subset of the population\n",
    "    "
   ]
  },
  {
   "cell_type": "markdown",
   "metadata": {},
   "source": [
    "##### random sampling"
   ]
  },
  {
   "cell_type": "code",
   "execution_count": null,
   "metadata": {},
   "outputs": [],
   "source": [
    "s = np.random.random_sample(100).reshape(2,50)"
   ]
  },
  {
   "cell_type": "markdown",
   "metadata": {},
   "source": [
    "##### Sampling from a normal distribution"
   ]
  },
  {
   "cell_type": "code",
   "execution_count": null,
   "metadata": {},
   "outputs": [],
   "source": [
    "s = np.random.normal(5, 3, 100).reshape(2,50)\n",
    "print(np.mean(s))\n",
    "print(np.median(s))\n",
    "print(np.std(s))"
   ]
  },
  {
   "cell_type": "code",
   "execution_count": 12,
   "metadata": {},
   "outputs": [
    {
     "name": "stdout",
     "output_type": "stream",
     "text": [
      "[(1, 2) (4, 6)] (2,)\n",
      "[(1, 2) (4, 6)]\n"
     ]
    },
    {
     "data": {
      "text/plain": [
       "array([1, 4])"
      ]
     },
     "execution_count": 12,
     "metadata": {},
     "output_type": "execute_result"
    }
   ],
   "source": [
    "named_ary = np.array([(1,2), (4,6)], dtype=[('x', int),('y', int)])\n",
    "print(named_ary, named_ary.shape)\n",
    "named_ary = named_ary.view(np.recarray)\n",
    "print(named_ary)\n",
    "named_ary['x']"
   ]
  },
  {
   "cell_type": "code",
   "execution_count": 18,
   "metadata": {},
   "outputs": [
    {
     "data": {
      "text/plain": [
       "array([[[ 7.89494223,  1.85463258,  3.97178456,  9.68729572,\n",
       "          7.25651779],\n",
       "        [ 4.92441463,  5.82685383,  1.95303239, -0.44520954,\n",
       "         -1.31722907]],\n",
       "\n",
       "       [[ 7.52216727,  8.20453942,  2.73708407,  7.05954232,\n",
       "          6.06645601],\n",
       "        [ 2.60587362, -1.20009077,  3.40906796,  4.333375  ,\n",
       "          1.76038395]]])"
      ]
     },
     "execution_count": 18,
     "metadata": {},
     "output_type": "execute_result"
    }
   ],
   "source": [
    "s = np.random.normal(5, 3, 20).reshape(2,2,5)\n",
    "s"
   ]
  },
  {
   "cell_type": "code",
   "execution_count": 25,
   "metadata": {},
   "outputs": [
    {
     "data": {
      "text/plain": [
       "array([[ 7.89494223,  1.85463258,  3.97178456,  9.68729572,  7.25651779],\n",
       "       [ 4.92441463,  5.82685383,  1.95303239, -0.44520954, -1.31722907]])"
      ]
     },
     "execution_count": 25,
     "metadata": {},
     "output_type": "execute_result"
    }
   ],
   "source": []
  }
 ],
 "metadata": {
  "kernelspec": {
   "display_name": "Python 3",
   "language": "python",
   "name": "python3"
  },
  "language_info": {
   "codemirror_mode": {
    "name": "ipython",
    "version": 3
   },
   "file_extension": ".py",
   "mimetype": "text/x-python",
   "name": "python",
   "nbconvert_exporter": "python",
   "pygments_lexer": "ipython3",
   "version": "3.7.9"
  },
  "toc": {
   "base_numbering": 1,
   "nav_menu": {},
   "number_sections": true,
   "sideBar": true,
   "skip_h1_title": false,
   "title_cell": "Table of Contents",
   "title_sidebar": "Contents",
   "toc_cell": false,
   "toc_position": {},
   "toc_section_display": true,
   "toc_window_display": false
  }
 },
 "nbformat": 4,
 "nbformat_minor": 2
}
